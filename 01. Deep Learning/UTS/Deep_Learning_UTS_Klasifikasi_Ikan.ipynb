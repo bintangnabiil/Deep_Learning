{
  "nbformat": 4,
  "nbformat_minor": 0,
  "metadata": {
    "colab": {
      "provenance": [],
      "mount_file_id": "1ClzVaOWZ7ff1SS9ZxzgjhCDWV60TEU-8",
      "authorship_tag": "ABX9TyNjvnco7RfnX463H+zWUGvu",
      "include_colab_link": true
    },
    "kernelspec": {
      "name": "python3",
      "display_name": "Python 3"
    },
    "language_info": {
      "name": "python"
    }
  },
  "cells": [
    {
      "cell_type": "markdown",
      "metadata": {
        "id": "view-in-github",
        "colab_type": "text"
      },
      "source": [
        "<a href=\"https://colab.research.google.com/github/bintangnabiil/Deep_Learning/blob/main/Deep_Learning_UTS_Klasifikasi_Ikan.ipynb\" target=\"_parent\"><img src=\"https://colab.research.google.com/assets/colab-badge.svg\" alt=\"Open In Colab\"/></a>"
      ]
    },
    {
      "cell_type": "markdown",
      "source": [
        "##1. a) Pipeline end-to-end"
      ],
      "metadata": {
        "id": "SAFoRvmaQ9Nk"
      }
    },
    {
      "cell_type": "code",
      "source": [
        "import pandas as pd\n",
        "import zipfile\n",
        "import os\n",
        "\n",
        "# Mount Google Drive\n",
        "from google.colab import drive\n",
        "drive.mount('/content/drive')\n",
        "\n",
        "# Path ke zip file di Google Drive\n",
        "train_zip_path = '/content/drive/MyDrive/Colab Notebooks/csv/train-20250503T060608Z-1-001.zip'\n",
        "val_zip_path = '/content/drive/MyDrive/Colab Notebooks/csv/val-20250503T062636Z-1-001.zip'\n",
        "test_zip_path = '/content/drive/MyDrive/Colab Notebooks/csv/test-20250503T060446Z-1-001.zip'\n",
        "\n",
        "# Ekstrak zip ke folder sementara\n",
        "train_dir = '/content/train'\n",
        "val_dir = '/content/val'\n",
        "test_dir = '/content/test'\n",
        "\n",
        "with zipfile.ZipFile(train_zip_path, 'r') as zip_ref:\n",
        "    zip_ref.extractall(train_dir)\n",
        "with zipfile.ZipFile(val_zip_path, 'r') as zip_ref:\n",
        "    zip_ref.extractall(val_dir)\n",
        "with zipfile.ZipFile(test_zip_path, 'r') as zip_ref:\n",
        "    zip_ref.extractall(test_dir)\n",
        "\n",
        "# List semua file dan buat DataFrame untuk masing-masing\n",
        "def create_dataframe_from_dir(directory):\n",
        "    image_paths = []\n",
        "    labels = []\n",
        "    for root, _, files in os.walk(directory):\n",
        "        for file in files:\n",
        "            if file.endswith(('.png', '.jpg', '.jpeg')):\n",
        "                path = os.path.join(root, file)\n",
        "                label = os.path.basename(root)\n",
        "                image_paths.append(path)\n",
        "                labels.append(label)\n",
        "    return pd.DataFrame({'filepath': image_paths, 'label': labels})\n",
        "\n",
        "train_df = create_dataframe_from_dir(train_dir)\n",
        "val_df = create_dataframe_from_dir(val_dir)\n",
        "test_df = create_dataframe_from_dir(test_dir)\n",
        "\n",
        "print(f\"Train: {train_df.shape}\")\n",
        "print(f\"Val: {val_df.shape}\")\n",
        "print(f\"Test: {test_df.shape}\")"
      ],
      "metadata": {
        "colab": {
          "base_uri": "https://localhost:8080/"
        },
        "id": "EhKXfRf5S7yk",
        "outputId": "9fe823b9-d8db-47d6-8a14-8c737e9810ea"
      },
      "execution_count": 20,
      "outputs": [
        {
          "output_type": "stream",
          "name": "stdout",
          "text": [
            "Drive already mounted at /content/drive; to attempt to forcibly remount, call drive.mount(\"/content/drive\", force_remount=True).\n",
            "Train: (8673, 2)\n",
            "Val: (2725, 2)\n",
            "Test: (1729, 2)\n"
          ]
        }
      ]
    },
    {
      "cell_type": "markdown",
      "source": [
        "##b) Feature Engineering"
      ],
      "metadata": {
        "id": "SFwyjz74SKpQ"
      }
    },
    {
      "cell_type": "code",
      "source": [
        "# Import library tambahan\n",
        "from sklearn.preprocessing import LabelEncoder\n",
        "import numpy as np\n",
        "from tensorflow.keras.utils import to_categorical\n",
        "from collections import Counter\n",
        "\n",
        "# Step 1: Transformasi Data (sudah dilakukan sebelumnya - rescale 1./255)\n",
        "\n",
        "# Step 2: Label Encoding\n",
        "# Kita pakai LabelEncoder untuk ubah label string jadi angka\n",
        "le = LabelEncoder()\n",
        "\n",
        "train_df['label_encoded'] = le.fit_transform(train_df['label'])\n",
        "val_df['label_encoded'] = le.transform(val_df['label'])\n",
        "test_df['label_encoded'] = le.transform(test_df['label'])\n",
        "\n",
        "print(\"Contoh Label Encoding TRAIN:\")\n",
        "print(train_df[['label', 'label_encoded']].head())\n",
        "\n",
        "# Step 3: One-Hot Encoding\n",
        "num_classes = len(le.classes_)\n",
        "train_df['label_onehot'] = train_df['label_encoded'].apply(lambda x: to_categorical(x, num_classes=num_classes))\n",
        "val_df['label_onehot'] = val_df['label_encoded'].apply(lambda x: to_categorical(x, num_classes=num_classes))\n",
        "test_df['label_onehot'] = test_df['label_encoded'].apply(lambda x: to_categorical(x, num_classes=num_classes))\n",
        "\n",
        "print(\"\\nContoh One-Hot Encoding TRAIN:\")\n",
        "print(train_df[['label', 'label_onehot']].head())\n",
        "\n",
        "# Optional: Cek apakah dataset seimbang atau tidak\n",
        "train_counts = Counter(train_df['label'])\n",
        "print(\"\\nDistribusi kelas TRAIN:\")\n",
        "for label, count in train_counts.items():\n",
        "    print(f\"{label}: {count} sample(s)\")\n",
        "\n",
        "# Optional: Hitung Class Weights jika dataset imbalanced\n",
        "from sklearn.utils.class_weight import compute_class_weight\n",
        "\n",
        "class_weights = compute_class_weight(\n",
        "    class_weight='balanced',\n",
        "    classes=np.unique(train_df['label_encoded']),\n",
        "    y=train_df['label_encoded']\n",
        ")\n",
        "class_weights_dict = dict(enumerate(class_weights))\n",
        "print(\"\\nClass Weights (jika diperlukan):\")\n",
        "print(class_weights_dict)"
      ],
      "metadata": {
        "colab": {
          "base_uri": "https://localhost:8080/"
        },
        "id": "wMioBcdWSNL1",
        "outputId": "d81d545f-ceaf-4bed-873f-4a0ace67239e"
      },
      "execution_count": 21,
      "outputs": [
        {
          "output_type": "stream",
          "name": "stdout",
          "text": [
            "Contoh Label Encoding TRAIN:\n",
            "            label  label_encoded\n",
            "0  Freshwater Eel              6\n",
            "1  Freshwater Eel              6\n",
            "2  Freshwater Eel              6\n",
            "3  Freshwater Eel              6\n",
            "4  Freshwater Eel              6\n",
            "\n",
            "Contoh One-Hot Encoding TRAIN:\n",
            "            label                                       label_onehot\n",
            "0  Freshwater Eel  [0.0, 0.0, 0.0, 0.0, 0.0, 0.0, 1.0, 0.0, 0.0, ...\n",
            "1  Freshwater Eel  [0.0, 0.0, 0.0, 0.0, 0.0, 0.0, 1.0, 0.0, 0.0, ...\n",
            "2  Freshwater Eel  [0.0, 0.0, 0.0, 0.0, 0.0, 0.0, 1.0, 0.0, 0.0, ...\n",
            "3  Freshwater Eel  [0.0, 0.0, 0.0, 0.0, 0.0, 0.0, 1.0, 0.0, 0.0, ...\n",
            "4  Freshwater Eel  [0.0, 0.0, 0.0, 0.0, 0.0, 0.0, 1.0, 0.0, 0.0, ...\n",
            "\n",
            "Distribusi kelas TRAIN:\n",
            "Freshwater Eel: 271 sample(s)\n",
            "Tenpounder: 277 sample(s)\n",
            "Big Head Carp: 201 sample(s)\n",
            "Green Spotted Puffer: 110 sample(s)\n",
            "Black Spotted Barb: 200 sample(s)\n",
            "Silver Carp: 194 sample(s)\n",
            "Catfish: 314 sample(s)\n",
            "Indo-Pacific Tarpon: 186 sample(s)\n",
            "Tilapia: 294 sample(s)\n",
            "Mudfish: 188 sample(s)\n",
            "Gold Fish: 201 sample(s)\n",
            "Goby: 604 sample(s)\n",
            "Jaguar Gapote: 229 sample(s)\n",
            "Mosquito Fish: 254 sample(s)\n",
            "Gourami: 311 sample(s)\n",
            "Snakehead: 232 sample(s)\n",
            "Mullet: 174 sample(s)\n",
            "Janitor Fish: 286 sample(s)\n",
            "Fourfinger Threadfin: 191 sample(s)\n",
            "Scat Fish: 154 sample(s)\n",
            "Indian Carp: 243 sample(s)\n",
            "Knifefish: 319 sample(s)\n",
            "Climbing Perch: 151 sample(s)\n",
            "Long-Snouted Pipefish: 256 sample(s)\n",
            "Pangasius: 193 sample(s)\n",
            "Glass Perchlet: 397 sample(s)\n",
            "Silver Perch: 283 sample(s)\n",
            "Perch: 293 sample(s)\n",
            "Grass Carp: 1167 sample(s)\n",
            "Bangus: 171 sample(s)\n",
            "Silver Barb: 329 sample(s)\n",
            "\n",
            "Class Weights (jika diperlukan):\n",
            "{0: np.float64(1.6361063950198076), 1: np.float64(1.3919114106884931), 2: np.float64(1.3988709677419355), 3: np.float64(0.8910006163961373), 4: np.float64(1.8528092287972655), 5: np.float64(1.464786353656477), 6: np.float64(1.032377097964528), 7: np.float64(0.7047208905500935), 8: np.float64(0.4632023071993164), 9: np.float64(1.3919114106884931), 10: np.float64(0.8995954776475469), 11: np.float64(0.23973795505431628), 12: np.float64(2.543401759530792), 13: np.float64(1.1513341298287534), 14: np.float64(1.504162330905307), 15: np.float64(1.2217213692069306), 16: np.float64(0.9782314459733814), 17: np.float64(0.8770350894933765), 18: np.float64(1.092867943548387), 19: np.float64(1.1014732029464058), 20: np.float64(1.4881606039807824), 21: np.float64(1.6078976640711902), 22: np.float64(1.4496072204579642), 23: np.float64(0.9548607288340857), 24: np.float64(1.816715542521994), 25: np.float64(0.8503774879890186), 26: np.float64(1.4421350182906552), 27: np.float64(0.9886013906303431), 28: np.float64(1.2059232480533926), 29: np.float64(1.0100151391638523), 30: np.float64(0.9516129032258065)}\n"
          ]
        }
      ]
    },
    {
      "cell_type": "markdown",
      "source": [
        "##c) Model-Model dengan Tensorflow/PyTorch untuk CNN"
      ],
      "metadata": {
        "id": "FotnRZEhTUUB"
      }
    },
    {
      "cell_type": "markdown",
      "source": [
        "###Model Tensorflow"
      ],
      "metadata": {
        "id": "S_iiQAF4TpaJ"
      }
    },
    {
      "cell_type": "code",
      "source": [
        "# Import library TensorFlow\n",
        "import tensorflow as tf\n",
        "from tensorflow.keras import layers, models\n",
        "\n",
        "# Tentukan input shape\n",
        "IMG_SIZE = (128, 128)  # Atur sesuai ukuran gambar dataset-mu\n",
        "INPUT_SHAPE = IMG_SIZE + (3, )\n",
        "\n",
        "# Buat model CNN\n",
        "model_tf = models.Sequential([\n",
        "    layers.Conv2D(32, (3, 3), activation='relu', input_shape=(128, 128, 3)),\n",
        "    layers.MaxPooling2D((2, 2)),\n",
        "\n",
        "    layers.Conv2D(64, (3, 3), activation='relu'),\n",
        "    layers.MaxPooling2D((2, 2)),\n",
        "\n",
        "    layers.Conv2D(128, (3, 3), activation='relu'),\n",
        "    layers.MaxPooling2D((2, 2)),\n",
        "\n",
        "    layers.Flatten(),  # ✅ ini wajib biar nggak error\n",
        "    layers.Dense(128, activation='relu'),\n",
        "    layers.Dropout(0.5),\n",
        "    layers.Dense(31, activation='softmax')  # 31 classes\n",
        "])\n",
        "\n",
        "# Compile model\n",
        "model_tf.compile(optimizer='adam',\n",
        "                 loss='categorical_crossentropy',\n",
        "                 metrics=['accuracy'])\n",
        "\n",
        "# Summary\n",
        "model_tf.summary()"
      ],
      "metadata": {
        "colab": {
          "base_uri": "https://localhost:8080/",
          "height": 505
        },
        "id": "zNOZ7WrdTo5T",
        "outputId": "2659164f-fb35-411e-d369-f4c47a52bcaa"
      },
      "execution_count": 40,
      "outputs": [
        {
          "output_type": "stream",
          "name": "stderr",
          "text": [
            "/usr/local/lib/python3.11/dist-packages/keras/src/layers/convolutional/base_conv.py:107: UserWarning: Do not pass an `input_shape`/`input_dim` argument to a layer. When using Sequential models, prefer using an `Input(shape)` object as the first layer in the model instead.\n",
            "  super().__init__(activity_regularizer=activity_regularizer, **kwargs)\n"
          ]
        },
        {
          "output_type": "display_data",
          "data": {
            "text/plain": [
              "\u001b[1mModel: \"sequential_3\"\u001b[0m\n"
            ],
            "text/html": [
              "<pre style=\"white-space:pre;overflow-x:auto;line-height:normal;font-family:Menlo,'DejaVu Sans Mono',consolas,'Courier New',monospace\"><span style=\"font-weight: bold\">Model: \"sequential_3\"</span>\n",
              "</pre>\n"
            ]
          },
          "metadata": {}
        },
        {
          "output_type": "display_data",
          "data": {
            "text/plain": [
              "┏━━━━━━━━━━━━━━━━━━━━━━━━━━━━━━━━━┳━━━━━━━━━━━━━━━━━━━━━━━━┳━━━━━━━━━━━━━━━┓\n",
              "┃\u001b[1m \u001b[0m\u001b[1mLayer (type)                   \u001b[0m\u001b[1m \u001b[0m┃\u001b[1m \u001b[0m\u001b[1mOutput Shape          \u001b[0m\u001b[1m \u001b[0m┃\u001b[1m \u001b[0m\u001b[1m      Param #\u001b[0m\u001b[1m \u001b[0m┃\n",
              "┡━━━━━━━━━━━━━━━━━━━━━━━━━━━━━━━━━╇━━━━━━━━━━━━━━━━━━━━━━━━╇━━━━━━━━━━━━━━━┩\n",
              "│ conv2d_9 (\u001b[38;5;33mConv2D\u001b[0m)               │ (\u001b[38;5;45mNone\u001b[0m, \u001b[38;5;34m126\u001b[0m, \u001b[38;5;34m126\u001b[0m, \u001b[38;5;34m32\u001b[0m)   │           \u001b[38;5;34m896\u001b[0m │\n",
              "├─────────────────────────────────┼────────────────────────┼───────────────┤\n",
              "│ max_pooling2d_8 (\u001b[38;5;33mMaxPooling2D\u001b[0m)  │ (\u001b[38;5;45mNone\u001b[0m, \u001b[38;5;34m63\u001b[0m, \u001b[38;5;34m63\u001b[0m, \u001b[38;5;34m32\u001b[0m)     │             \u001b[38;5;34m0\u001b[0m │\n",
              "├─────────────────────────────────┼────────────────────────┼───────────────┤\n",
              "│ conv2d_10 (\u001b[38;5;33mConv2D\u001b[0m)              │ (\u001b[38;5;45mNone\u001b[0m, \u001b[38;5;34m61\u001b[0m, \u001b[38;5;34m61\u001b[0m, \u001b[38;5;34m64\u001b[0m)     │        \u001b[38;5;34m18,496\u001b[0m │\n",
              "├─────────────────────────────────┼────────────────────────┼───────────────┤\n",
              "│ max_pooling2d_9 (\u001b[38;5;33mMaxPooling2D\u001b[0m)  │ (\u001b[38;5;45mNone\u001b[0m, \u001b[38;5;34m30\u001b[0m, \u001b[38;5;34m30\u001b[0m, \u001b[38;5;34m64\u001b[0m)     │             \u001b[38;5;34m0\u001b[0m │\n",
              "├─────────────────────────────────┼────────────────────────┼───────────────┤\n",
              "│ conv2d_11 (\u001b[38;5;33mConv2D\u001b[0m)              │ (\u001b[38;5;45mNone\u001b[0m, \u001b[38;5;34m28\u001b[0m, \u001b[38;5;34m28\u001b[0m, \u001b[38;5;34m128\u001b[0m)    │        \u001b[38;5;34m73,856\u001b[0m │\n",
              "├─────────────────────────────────┼────────────────────────┼───────────────┤\n",
              "│ max_pooling2d_10 (\u001b[38;5;33mMaxPooling2D\u001b[0m) │ (\u001b[38;5;45mNone\u001b[0m, \u001b[38;5;34m14\u001b[0m, \u001b[38;5;34m14\u001b[0m, \u001b[38;5;34m128\u001b[0m)    │             \u001b[38;5;34m0\u001b[0m │\n",
              "├─────────────────────────────────┼────────────────────────┼───────────────┤\n",
              "│ flatten_3 (\u001b[38;5;33mFlatten\u001b[0m)             │ (\u001b[38;5;45mNone\u001b[0m, \u001b[38;5;34m25088\u001b[0m)          │             \u001b[38;5;34m0\u001b[0m │\n",
              "├─────────────────────────────────┼────────────────────────┼───────────────┤\n",
              "│ dense_6 (\u001b[38;5;33mDense\u001b[0m)                 │ (\u001b[38;5;45mNone\u001b[0m, \u001b[38;5;34m128\u001b[0m)            │     \u001b[38;5;34m3,211,392\u001b[0m │\n",
              "├─────────────────────────────────┼────────────────────────┼───────────────┤\n",
              "│ dropout_3 (\u001b[38;5;33mDropout\u001b[0m)             │ (\u001b[38;5;45mNone\u001b[0m, \u001b[38;5;34m128\u001b[0m)            │             \u001b[38;5;34m0\u001b[0m │\n",
              "├─────────────────────────────────┼────────────────────────┼───────────────┤\n",
              "│ dense_7 (\u001b[38;5;33mDense\u001b[0m)                 │ (\u001b[38;5;45mNone\u001b[0m, \u001b[38;5;34m31\u001b[0m)             │         \u001b[38;5;34m3,999\u001b[0m │\n",
              "└─────────────────────────────────┴────────────────────────┴───────────────┘\n"
            ],
            "text/html": [
              "<pre style=\"white-space:pre;overflow-x:auto;line-height:normal;font-family:Menlo,'DejaVu Sans Mono',consolas,'Courier New',monospace\">┏━━━━━━━━━━━━━━━━━━━━━━━━━━━━━━━━━┳━━━━━━━━━━━━━━━━━━━━━━━━┳━━━━━━━━━━━━━━━┓\n",
              "┃<span style=\"font-weight: bold\"> Layer (type)                    </span>┃<span style=\"font-weight: bold\"> Output Shape           </span>┃<span style=\"font-weight: bold\">       Param # </span>┃\n",
              "┡━━━━━━━━━━━━━━━━━━━━━━━━━━━━━━━━━╇━━━━━━━━━━━━━━━━━━━━━━━━╇━━━━━━━━━━━━━━━┩\n",
              "│ conv2d_9 (<span style=\"color: #0087ff; text-decoration-color: #0087ff\">Conv2D</span>)               │ (<span style=\"color: #00d7ff; text-decoration-color: #00d7ff\">None</span>, <span style=\"color: #00af00; text-decoration-color: #00af00\">126</span>, <span style=\"color: #00af00; text-decoration-color: #00af00\">126</span>, <span style=\"color: #00af00; text-decoration-color: #00af00\">32</span>)   │           <span style=\"color: #00af00; text-decoration-color: #00af00\">896</span> │\n",
              "├─────────────────────────────────┼────────────────────────┼───────────────┤\n",
              "│ max_pooling2d_8 (<span style=\"color: #0087ff; text-decoration-color: #0087ff\">MaxPooling2D</span>)  │ (<span style=\"color: #00d7ff; text-decoration-color: #00d7ff\">None</span>, <span style=\"color: #00af00; text-decoration-color: #00af00\">63</span>, <span style=\"color: #00af00; text-decoration-color: #00af00\">63</span>, <span style=\"color: #00af00; text-decoration-color: #00af00\">32</span>)     │             <span style=\"color: #00af00; text-decoration-color: #00af00\">0</span> │\n",
              "├─────────────────────────────────┼────────────────────────┼───────────────┤\n",
              "│ conv2d_10 (<span style=\"color: #0087ff; text-decoration-color: #0087ff\">Conv2D</span>)              │ (<span style=\"color: #00d7ff; text-decoration-color: #00d7ff\">None</span>, <span style=\"color: #00af00; text-decoration-color: #00af00\">61</span>, <span style=\"color: #00af00; text-decoration-color: #00af00\">61</span>, <span style=\"color: #00af00; text-decoration-color: #00af00\">64</span>)     │        <span style=\"color: #00af00; text-decoration-color: #00af00\">18,496</span> │\n",
              "├─────────────────────────────────┼────────────────────────┼───────────────┤\n",
              "│ max_pooling2d_9 (<span style=\"color: #0087ff; text-decoration-color: #0087ff\">MaxPooling2D</span>)  │ (<span style=\"color: #00d7ff; text-decoration-color: #00d7ff\">None</span>, <span style=\"color: #00af00; text-decoration-color: #00af00\">30</span>, <span style=\"color: #00af00; text-decoration-color: #00af00\">30</span>, <span style=\"color: #00af00; text-decoration-color: #00af00\">64</span>)     │             <span style=\"color: #00af00; text-decoration-color: #00af00\">0</span> │\n",
              "├─────────────────────────────────┼────────────────────────┼───────────────┤\n",
              "│ conv2d_11 (<span style=\"color: #0087ff; text-decoration-color: #0087ff\">Conv2D</span>)              │ (<span style=\"color: #00d7ff; text-decoration-color: #00d7ff\">None</span>, <span style=\"color: #00af00; text-decoration-color: #00af00\">28</span>, <span style=\"color: #00af00; text-decoration-color: #00af00\">28</span>, <span style=\"color: #00af00; text-decoration-color: #00af00\">128</span>)    │        <span style=\"color: #00af00; text-decoration-color: #00af00\">73,856</span> │\n",
              "├─────────────────────────────────┼────────────────────────┼───────────────┤\n",
              "│ max_pooling2d_10 (<span style=\"color: #0087ff; text-decoration-color: #0087ff\">MaxPooling2D</span>) │ (<span style=\"color: #00d7ff; text-decoration-color: #00d7ff\">None</span>, <span style=\"color: #00af00; text-decoration-color: #00af00\">14</span>, <span style=\"color: #00af00; text-decoration-color: #00af00\">14</span>, <span style=\"color: #00af00; text-decoration-color: #00af00\">128</span>)    │             <span style=\"color: #00af00; text-decoration-color: #00af00\">0</span> │\n",
              "├─────────────────────────────────┼────────────────────────┼───────────────┤\n",
              "│ flatten_3 (<span style=\"color: #0087ff; text-decoration-color: #0087ff\">Flatten</span>)             │ (<span style=\"color: #00d7ff; text-decoration-color: #00d7ff\">None</span>, <span style=\"color: #00af00; text-decoration-color: #00af00\">25088</span>)          │             <span style=\"color: #00af00; text-decoration-color: #00af00\">0</span> │\n",
              "├─────────────────────────────────┼────────────────────────┼───────────────┤\n",
              "│ dense_6 (<span style=\"color: #0087ff; text-decoration-color: #0087ff\">Dense</span>)                 │ (<span style=\"color: #00d7ff; text-decoration-color: #00d7ff\">None</span>, <span style=\"color: #00af00; text-decoration-color: #00af00\">128</span>)            │     <span style=\"color: #00af00; text-decoration-color: #00af00\">3,211,392</span> │\n",
              "├─────────────────────────────────┼────────────────────────┼───────────────┤\n",
              "│ dropout_3 (<span style=\"color: #0087ff; text-decoration-color: #0087ff\">Dropout</span>)             │ (<span style=\"color: #00d7ff; text-decoration-color: #00d7ff\">None</span>, <span style=\"color: #00af00; text-decoration-color: #00af00\">128</span>)            │             <span style=\"color: #00af00; text-decoration-color: #00af00\">0</span> │\n",
              "├─────────────────────────────────┼────────────────────────┼───────────────┤\n",
              "│ dense_7 (<span style=\"color: #0087ff; text-decoration-color: #0087ff\">Dense</span>)                 │ (<span style=\"color: #00d7ff; text-decoration-color: #00d7ff\">None</span>, <span style=\"color: #00af00; text-decoration-color: #00af00\">31</span>)             │         <span style=\"color: #00af00; text-decoration-color: #00af00\">3,999</span> │\n",
              "└─────────────────────────────────┴────────────────────────┴───────────────┘\n",
              "</pre>\n"
            ]
          },
          "metadata": {}
        },
        {
          "output_type": "display_data",
          "data": {
            "text/plain": [
              "\u001b[1m Total params: \u001b[0m\u001b[38;5;34m3,308,639\u001b[0m (12.62 MB)\n"
            ],
            "text/html": [
              "<pre style=\"white-space:pre;overflow-x:auto;line-height:normal;font-family:Menlo,'DejaVu Sans Mono',consolas,'Courier New',monospace\"><span style=\"font-weight: bold\"> Total params: </span><span style=\"color: #00af00; text-decoration-color: #00af00\">3,308,639</span> (12.62 MB)\n",
              "</pre>\n"
            ]
          },
          "metadata": {}
        },
        {
          "output_type": "display_data",
          "data": {
            "text/plain": [
              "\u001b[1m Trainable params: \u001b[0m\u001b[38;5;34m3,308,639\u001b[0m (12.62 MB)\n"
            ],
            "text/html": [
              "<pre style=\"white-space:pre;overflow-x:auto;line-height:normal;font-family:Menlo,'DejaVu Sans Mono',consolas,'Courier New',monospace\"><span style=\"font-weight: bold\"> Trainable params: </span><span style=\"color: #00af00; text-decoration-color: #00af00\">3,308,639</span> (12.62 MB)\n",
              "</pre>\n"
            ]
          },
          "metadata": {}
        },
        {
          "output_type": "display_data",
          "data": {
            "text/plain": [
              "\u001b[1m Non-trainable params: \u001b[0m\u001b[38;5;34m0\u001b[0m (0.00 B)\n"
            ],
            "text/html": [
              "<pre style=\"white-space:pre;overflow-x:auto;line-height:normal;font-family:Menlo,'DejaVu Sans Mono',consolas,'Courier New',monospace\"><span style=\"font-weight: bold\"> Non-trainable params: </span><span style=\"color: #00af00; text-decoration-color: #00af00\">0</span> (0.00 B)\n",
              "</pre>\n"
            ]
          },
          "metadata": {}
        }
      ]
    },
    {
      "cell_type": "markdown",
      "source": [
        "###Training Tensorflow"
      ],
      "metadata": {
        "id": "VLFNwn2ITwb-"
      }
    },
    {
      "cell_type": "code",
      "source": [
        "print(train_df.columns)\n",
        "print(train_df.head())"
      ],
      "metadata": {
        "colab": {
          "base_uri": "https://localhost:8080/"
        },
        "id": "TnkrR6UQVKno",
        "outputId": "55aa445b-92f0-4da8-d4d5-92834c968c57"
      },
      "execution_count": 41,
      "outputs": [
        {
          "output_type": "stream",
          "name": "stdout",
          "text": [
            "Index(['filepath', 'label', 'label_encoded', 'label_onehot'], dtype='object')\n",
            "                                            filepath           label  \\\n",
            "0  /content/train/train/Freshwater Eel/Picture115...  Freshwater Eel   \n",
            "1  /content/train/train/Freshwater Eel/Picture252...  Freshwater Eel   \n",
            "2  /content/train/train/Freshwater Eel/Picture237...  Freshwater Eel   \n",
            "3  /content/train/train/Freshwater Eel/Picture136...  Freshwater Eel   \n",
            "4  /content/train/train/Freshwater Eel/Picture269...  Freshwater Eel   \n",
            "\n",
            "   label_encoded                                       label_onehot  \n",
            "0              6  [0.0, 0.0, 0.0, 0.0, 0.0, 0.0, 1.0, 0.0, 0.0, ...  \n",
            "1              6  [0.0, 0.0, 0.0, 0.0, 0.0, 0.0, 1.0, 0.0, 0.0, ...  \n",
            "2              6  [0.0, 0.0, 0.0, 0.0, 0.0, 0.0, 1.0, 0.0, 0.0, ...  \n",
            "3              6  [0.0, 0.0, 0.0, 0.0, 0.0, 0.0, 1.0, 0.0, 0.0, ...  \n",
            "4              6  [0.0, 0.0, 0.0, 0.0, 0.0, 0.0, 1.0, 0.0, 0.0, ...  \n"
          ]
        }
      ]
    },
    {
      "cell_type": "code",
      "source": [
        "print(train_df.columns)"
      ],
      "metadata": {
        "colab": {
          "base_uri": "https://localhost:8080/"
        },
        "id": "u4ZwzQi8bJf7",
        "outputId": "e832dc12-8c02-4688-a72e-972156d8e389"
      },
      "execution_count": 38,
      "outputs": [
        {
          "output_type": "stream",
          "name": "stdout",
          "text": [
            "Index(['filepath', 'label', 'label_encoded', 'label_onehot'], dtype='object')\n"
          ]
        }
      ]
    },
    {
      "cell_type": "code",
      "source": [
        "from tensorflow.keras.preprocessing.image import ImageDataGenerator\n",
        "\n",
        "IMG_SIZE = (128, 128)\n",
        "BATCH_SIZE = 32\n",
        "\n",
        "# ImageDataGenerator untuk training (augmentasi aktif)\n",
        "train_datagen = ImageDataGenerator(\n",
        "    rescale=1./255,\n",
        "    rotation_range=20,\n",
        "    width_shift_range=0.2,\n",
        "    height_shift_range=0.2,\n",
        "    shear_range=0.2,\n",
        "    zoom_range=0.2,\n",
        "    horizontal_flip=True,\n",
        "    fill_mode='nearest'\n",
        ")\n",
        "\n",
        "# ImageDataGenerator untuk validation (tanpa augmentasi)\n",
        "val_datagen = ImageDataGenerator(rescale=1./255)\n",
        "\n",
        "# Generator\n",
        "train_gen = train_datagen.flow_from_dataframe(\n",
        "    dataframe=train_df,\n",
        "    x_col='filepath',   # ✅ ini yang benar\n",
        "    y_col='label',\n",
        "    target_size=IMG_SIZE,\n",
        "    batch_size=BATCH_SIZE,\n",
        "    class_mode='categorical'\n",
        ")\n",
        "\n",
        "val_gen = val_datagen.flow_from_dataframe(\n",
        "    dataframe=val_df,\n",
        "    x_col='filepath',   # ✅\n",
        "    y_col='label',\n",
        "    target_size=IMG_SIZE,\n",
        "    batch_size=BATCH_SIZE,\n",
        "    class_mode='categorical'\n",
        ")\n",
        "\n",
        "test_gen = test_datagen.flow_from_dataframe(\n",
        "    dataframe=test_df,\n",
        "    x_col='filepath',   # ✅\n",
        "    y_col='label',\n",
        "    target_size=IMG_SIZE,\n",
        "    batch_size=BATCH_SIZE,\n",
        "    class_mode='categorical',\n",
        "    shuffle=False\n",
        ")\n",
        "\n",
        "train_dir = '/content/drive/MyDrive/dataset/train'\n",
        "val_dir = '/content/drive/MyDrive/dataset/val'\n",
        "\n",
        "history_tf = model_tf.fit(\n",
        "    train_gen,\n",
        "    epochs=10,\n",
        "    validation_data=val_gen\n",
        ")"
      ],
      "metadata": {
        "colab": {
          "base_uri": "https://localhost:8080/"
        },
        "id": "rDeDGaMKTu7z",
        "outputId": "a999754f-7fbd-4703-ab0c-030e14094480"
      },
      "execution_count": 42,
      "outputs": [
        {
          "output_type": "stream",
          "name": "stdout",
          "text": [
            "Found 8673 validated image filenames belonging to 31 classes.\n",
            "Found 2725 validated image filenames belonging to 31 classes.\n",
            "Found 1729 validated image filenames belonging to 31 classes.\n"
          ]
        },
        {
          "output_type": "stream",
          "name": "stderr",
          "text": [
            "/usr/local/lib/python3.11/dist-packages/keras/src/trainers/data_adapters/py_dataset_adapter.py:121: UserWarning: Your `PyDataset` class should call `super().__init__(**kwargs)` in its constructor. `**kwargs` can include `workers`, `use_multiprocessing`, `max_queue_size`. Do not pass these arguments to `fit()`, as they will be ignored.\n",
            "  self._warn_if_super_not_called()\n"
          ]
        },
        {
          "output_type": "stream",
          "name": "stdout",
          "text": [
            "Epoch 1/10\n",
            "\u001b[1m272/272\u001b[0m \u001b[32m━━━━━━━━━━━━━━━━━━━━\u001b[0m\u001b[37m\u001b[0m \u001b[1m365s\u001b[0m 1s/step - accuracy: 0.1321 - loss: 3.3047 - val_accuracy: 0.2393 - val_loss: 2.8748\n",
            "Epoch 2/10\n",
            "\u001b[1m272/272\u001b[0m \u001b[32m━━━━━━━━━━━━━━━━━━━━\u001b[0m\u001b[37m\u001b[0m \u001b[1m357s\u001b[0m 1s/step - accuracy: 0.2090 - loss: 2.9804 - val_accuracy: 0.2624 - val_loss: 2.5958\n",
            "Epoch 3/10\n",
            "\u001b[1m272/272\u001b[0m \u001b[32m━━━━━━━━━━━━━━━━━━━━\u001b[0m\u001b[37m\u001b[0m \u001b[1m357s\u001b[0m 1s/step - accuracy: 0.2466 - loss: 2.7556 - val_accuracy: 0.2305 - val_loss: 2.8244\n",
            "Epoch 4/10\n",
            "\u001b[1m272/272\u001b[0m \u001b[32m━━━━━━━━━━━━━━━━━━━━\u001b[0m\u001b[37m\u001b[0m \u001b[1m355s\u001b[0m 1s/step - accuracy: 0.2669 - loss: 2.6642 - val_accuracy: 0.3226 - val_loss: 2.3850\n",
            "Epoch 5/10\n",
            "\u001b[1m272/272\u001b[0m \u001b[32m━━━━━━━━━━━━━━━━━━━━\u001b[0m\u001b[37m\u001b[0m \u001b[1m355s\u001b[0m 1s/step - accuracy: 0.2910 - loss: 2.5445 - val_accuracy: 0.3626 - val_loss: 2.1486\n",
            "Epoch 6/10\n",
            "\u001b[1m272/272\u001b[0m \u001b[32m━━━━━━━━━━━━━━━━━━━━\u001b[0m\u001b[37m\u001b[0m \u001b[1m355s\u001b[0m 1s/step - accuracy: 0.3143 - loss: 2.4282 - val_accuracy: 0.3717 - val_loss: 2.1395\n",
            "Epoch 7/10\n",
            "\u001b[1m272/272\u001b[0m \u001b[32m━━━━━━━━━━━━━━━━━━━━\u001b[0m\u001b[37m\u001b[0m \u001b[1m366s\u001b[0m 1s/step - accuracy: 0.3311 - loss: 2.3927 - val_accuracy: 0.4114 - val_loss: 1.9875\n",
            "Epoch 8/10\n",
            "\u001b[1m272/272\u001b[0m \u001b[32m━━━━━━━━━━━━━━━━━━━━\u001b[0m\u001b[37m\u001b[0m \u001b[1m367s\u001b[0m 1s/step - accuracy: 0.3388 - loss: 2.3132 - val_accuracy: 0.4330 - val_loss: 1.9531\n",
            "Epoch 9/10\n",
            "\u001b[1m272/272\u001b[0m \u001b[32m━━━━━━━━━━━━━━━━━━━━\u001b[0m\u001b[37m\u001b[0m \u001b[1m354s\u001b[0m 1s/step - accuracy: 0.3675 - loss: 2.2363 - val_accuracy: 0.3956 - val_loss: 1.9959\n",
            "Epoch 10/10\n",
            "\u001b[1m272/272\u001b[0m \u001b[32m━━━━━━━━━━━━━━━━━━━━\u001b[0m\u001b[37m\u001b[0m \u001b[1m358s\u001b[0m 1s/step - accuracy: 0.3747 - loss: 2.2068 - val_accuracy: 0.4602 - val_loss: 1.8313\n"
          ]
        }
      ]
    },
    {
      "cell_type": "markdown",
      "source": [
        "###Model PyTorch"
      ],
      "metadata": {
        "id": "I7OIsh2zT0mR"
      }
    },
    {
      "cell_type": "code",
      "source": [
        "# Setup\n",
        "device = torch.device(\"cuda\" if torch.cuda.is_available() else \"cpu\")\n",
        "model_pt = CNNModel(num_classes=31).to(device)\n",
        "\n",
        "# Loss & Optimizer\n",
        "criterion = nn.CrossEntropyLoss()\n",
        "optimizer = torch.optim.Adam(model_pt.parameters(), lr=0.001)\n",
        "\n",
        "print(model_pt)"
      ],
      "metadata": {
        "colab": {
          "base_uri": "https://localhost:8080/"
        },
        "id": "o67jgwCyqJEa",
        "outputId": "753b6cc6-5508-45a3-8b04-6a484dbcf1f2"
      },
      "execution_count": 45,
      "outputs": [
        {
          "output_type": "stream",
          "name": "stdout",
          "text": [
            "CNNModel(\n",
            "  (conv1): Conv2d(3, 32, kernel_size=(3, 3), stride=(1, 1), padding=(1, 1))\n",
            "  (pool): MaxPool2d(kernel_size=2, stride=2, padding=0, dilation=1, ceil_mode=False)\n",
            "  (conv2): Conv2d(32, 64, kernel_size=(3, 3), stride=(1, 1), padding=(1, 1))\n",
            "  (conv3): Conv2d(64, 128, kernel_size=(3, 3), stride=(1, 1), padding=(1, 1))\n",
            "  (fc1): Linear(in_features=32768, out_features=128, bias=True)\n",
            "  (dropout): Dropout(p=0.5, inplace=False)\n",
            "  (fc2): Linear(in_features=128, out_features=31, bias=True)\n",
            ")\n"
          ]
        }
      ]
    },
    {
      "cell_type": "code",
      "source": [
        "import torch\n",
        "import torch.nn as nn\n",
        "import torch.nn.functional as F\n",
        "import torch.optim as optim\n",
        "from torch.utils.data import DataLoader\n",
        "from torchvision import datasets, transforms\n",
        "\n",
        "train_dir = '/content/train'\n",
        "val_dir = '/content/val'\n",
        "test_dir = '/content/test'\n",
        "\n",
        "# Transform untuk dataset\n",
        "transform = transforms.Compose([\n",
        "    transforms.Resize(IMG_SIZE),\n",
        "    transforms.ToTensor(),\n",
        "])\n",
        "\n",
        "# Dataset & Dataloader\n",
        "train_data = datasets.ImageFolder(train_dir, transform=transform)\n",
        "val_data = datasets.ImageFolder(val_dir, transform=transform)\n",
        "test_data = datasets.ImageFolder(test_dir, transform=transform)\n",
        "\n",
        "train_loader = DataLoader(train_data, batch_size=32, shuffle=True)\n",
        "val_loader = DataLoader(val_data, batch_size=32, shuffle=False)\n",
        "test_loader = DataLoader(test_data, batch_size=32, shuffle=False)\n",
        "\n",
        "# Cek jumlah kelas\n",
        "num_classes = len(train_data.classes)\n",
        "print(f\"Jumlah kelas: {num_classes}\")\n",
        "\n",
        "# CNN Model\n",
        "class SimpleCNN(nn.Module):\n",
        "    def __init__(self, num_classes):\n",
        "        super(SimpleCNN, self).__init__()\n",
        "        self.conv1 = nn.Conv2d(3, 32, 3, padding=1)\n",
        "        self.pool = nn.MaxPool2d(2, 2)\n",
        "        self.conv2 = nn.Conv2d(32, 64, 3, padding=1)\n",
        "        self.conv3 = nn.Conv2d(64, 128, 3, padding=1)\n",
        "        self.fc1 = nn.Linear(128 * (IMG_SIZE[0]//8) * (IMG_SIZE[1]//8), 128)\n",
        "        self.fc2 = nn.Linear(128, num_classes)\n",
        "        self.dropout = nn.Dropout(0.5)\n",
        "\n",
        "    def forward(self, x):\n",
        "        x = self.pool(F.relu(self.conv1(x)))\n",
        "        x = self.pool(F.relu(self.conv2(x)))\n",
        "        x = self.pool(F.relu(self.conv3(x)))\n",
        "        x = torch.flatten(x, 1)\n",
        "        x = self.dropout(F.relu(self.fc1(x)))\n",
        "        x = self.fc2(x)\n",
        "        return x\n",
        "\n",
        "# Model & Optimizer\n",
        "device = torch.device(\"cuda\" if torch.cuda.is_available() else \"cpu\")\n",
        "model_pt = SimpleCNN(num_classes).to(device)\n",
        "\n",
        "criterion = nn.CrossEntropyLoss()\n",
        "optimizer = optim.Adam(model_pt.parameters(), lr=0.001)\n",
        "\n",
        "# Training Loop (1 epoch contoh)\n",
        "for epoch in range(10):  # 10 epochs\n",
        "    model_pt.train()\n",
        "    running_loss = 0.0\n",
        "    for inputs, labels in train_loader:\n",
        "        inputs, labels = inputs.to(device), labels.to(device)\n",
        "\n",
        "        optimizer.zero_grad()\n",
        "        outputs = model_pt(inputs)\n",
        "        loss = criterion(outputs, labels)\n",
        "        loss.backward()\n",
        "        optimizer.step()\n",
        "\n",
        "        running_loss += loss.item()\n",
        "\n",
        "    print(f\"Epoch [{epoch+1}/10] - Loss: {running_loss/len(train_loader):.4f}\")"
      ],
      "metadata": {
        "colab": {
          "base_uri": "https://localhost:8080/"
        },
        "id": "LmIkj4X6T19K",
        "outputId": "a6c86757-9914-49d5-cfe1-aebc7910eef4"
      },
      "execution_count": 48,
      "outputs": [
        {
          "output_type": "stream",
          "name": "stdout",
          "text": [
            "Jumlah kelas: 1\n",
            "Epoch [1/10] - Loss: 0.0000\n",
            "Epoch [2/10] - Loss: 0.0000\n",
            "Epoch [3/10] - Loss: 0.0000\n",
            "Epoch [4/10] - Loss: 0.0000\n",
            "Epoch [5/10] - Loss: 0.0000\n",
            "Epoch [6/10] - Loss: 0.0000\n",
            "Epoch [7/10] - Loss: 0.0000\n",
            "Epoch [8/10] - Loss: 0.0000\n",
            "Epoch [9/10] - Loss: 0.0000\n",
            "Epoch [10/10] - Loss: 0.0000\n"
          ]
        }
      ]
    },
    {
      "cell_type": "markdown",
      "source": [
        "##2. Model Matriks Evaluasi"
      ],
      "metadata": {
        "id": "vxnobsyh8PAH"
      }
    },
    {
      "cell_type": "code",
      "source": [
        "import torch\n",
        "from sklearn.metrics import accuracy_score, precision_score, recall_score, f1_score, roc_auc_score, confusion_matrix, roc_curve, auc\n",
        "import seaborn as sns\n",
        "import matplotlib.pyplot as plt\n",
        "import numpy as np"
      ],
      "metadata": {
        "id": "xjhIDJUu8R9m"
      },
      "execution_count": 49,
      "outputs": []
    },
    {
      "cell_type": "code",
      "source": [
        "model_pt.eval()\n",
        "all_preds = []\n",
        "all_labels = []\n",
        "\n",
        "with torch.no_grad():\n",
        "    for images, labels in test_loader:\n",
        "        images, labels = images.to(device), labels.to(device)\n",
        "        outputs = model_pt(images)\n",
        "\n",
        "        _, preds = torch.max(outputs, 1)  # ambil prediksi kelas\n",
        "        all_preds.extend(preds.cpu().numpy())\n",
        "        all_labels.extend(labels.cpu().numpy())"
      ],
      "metadata": {
        "id": "f5O2LhYT8UpN"
      },
      "execution_count": 50,
      "outputs": []
    },
    {
      "cell_type": "code",
      "source": [
        "# Metrics dasar\n",
        "accuracy = accuracy_score(all_labels, all_preds)\n",
        "precision = precision_score(all_labels, all_preds, average='macro')\n",
        "recall = recall_score(all_labels, all_preds, average='macro')\n",
        "f1 = f1_score(all_labels, all_preds, average='macro')\n",
        "\n",
        "print(f'Accuracy: {accuracy:.4f}')\n",
        "print(f'Precision: {precision:.4f}')\n",
        "print(f'Recall: {recall:.4f}')\n",
        "print(f'F1-Score: {f1:.4f}')"
      ],
      "metadata": {
        "colab": {
          "base_uri": "https://localhost:8080/"
        },
        "id": "_4UGDgDm8VwS",
        "outputId": "cbc6ff77-758b-4e08-e56e-163e21838f50"
      },
      "execution_count": 51,
      "outputs": [
        {
          "output_type": "stream",
          "name": "stdout",
          "text": [
            "Accuracy: 1.0000\n",
            "Precision: 1.0000\n",
            "Recall: 1.0000\n",
            "F1-Score: 1.0000\n"
          ]
        }
      ]
    },
    {
      "cell_type": "code",
      "source": [
        "from sklearn.preprocessing import label_binarize\n",
        "\n",
        "n_classes = len(test_loader.dataset.classes)\n",
        "\n",
        "# Reset dulu list\n",
        "all_probs = []\n",
        "\n",
        "with torch.no_grad():\n",
        "    for images, labels in test_loader:\n",
        "        images = images.to(device)\n",
        "        outputs = model_pt(images)\n",
        "        probs = torch.softmax(outputs, dim=1)\n",
        "        all_probs.extend(probs.cpu().numpy())\n",
        "\n",
        "# Binarize labels untuk ROC-AUC multiclass\n",
        "all_labels_bin = label_binarize(all_labels, classes=range(n_classes))\n",
        "all_probs = np.array(all_probs)\n",
        "\n",
        "auc_macro = roc_auc_score(all_labels_bin, all_probs, average=\"macro\", multi_class=\"ovr\")\n",
        "print(f'ROC AUC (macro): {auc_macro:.4f}')"
      ],
      "metadata": {
        "colab": {
          "base_uri": "https://localhost:8080/"
        },
        "id": "5sbZ4YqN8Wua",
        "outputId": "93901cd6-6b43-48bf-a555-3abf86d6aed5"
      },
      "execution_count": 52,
      "outputs": [
        {
          "output_type": "stream",
          "name": "stdout",
          "text": [
            "ROC AUC (macro): nan\n"
          ]
        },
        {
          "output_type": "stream",
          "name": "stderr",
          "text": [
            "/usr/local/lib/python3.11/dist-packages/sklearn/metrics/_ranking.py:379: UndefinedMetricWarning: Only one class is present in y_true. ROC AUC score is not defined in that case.\n",
            "  warnings.warn(\n"
          ]
        }
      ]
    },
    {
      "cell_type": "code",
      "source": [
        "cm = confusion_matrix(all_labels, all_preds)\n",
        "\n",
        "plt.figure(figsize=(12, 10))\n",
        "sns.heatmap(cm, annot=True, fmt='d', cmap='Blues')\n",
        "plt.xlabel('Predicted')\n",
        "plt.ylabel('True')\n",
        "plt.title('Confusion Matrix')\n",
        "plt.show()"
      ],
      "metadata": {
        "colab": {
          "base_uri": "https://localhost:8080/",
          "height": 713
        },
        "id": "iQ9ERI-F8Xz7",
        "outputId": "949acae1-cb54-4b85-9786-3ed892f020e7"
      },
      "execution_count": 53,
      "outputs": [
        {
          "output_type": "stream",
          "name": "stderr",
          "text": [
            "/usr/local/lib/python3.11/dist-packages/sklearn/metrics/_classification.py:407: UserWarning: A single label was found in 'y_true' and 'y_pred'. For the confusion matrix to have the correct shape, use the 'labels' parameter to pass all known labels.\n",
            "  warnings.warn(\n"
          ]
        },
        {
          "output_type": "display_data",
          "data": {
            "text/plain": [
              "<Figure size 1200x1000 with 2 Axes>"
            ],
            "image/png": "[encoded data removed]"
          },
          "metadata": {}
        }
      ]
    },
    {
      "cell_type": "markdown",
      "source": [
        "Kasus multiclass kayak gini jangan hanya lihat Accuracy karena bisa bias kalau ada kelas yang jumlahnya dominan. Biasanya ROC-AUC dianggap standar emas untuk melihat kemampuan model memisahkan antar kelas, terutama kalau kamu punya data imbalanced.\n",
        "\n",
        "\n",
        "\n",
        "Model dievaluasi dengan lima matriks utama: Accuracy, Precision, Recall, F1-Score, dan ROC-AUC. Accuracy menggambarkan keseluruhan performa model, Precision dan Recall fokus pada ketepatan dan kelengkapan untuk tiap kelas, sementara F1-Score menyeimbangkan keduanya. ROC-AUC memberikan gambaran seberapa baik model membedakan antar kelas. Berdasarkan hasil, [misalnya ROC-AUC/F1-Score] menjadi metrik terbaik karena mampu memberikan gambaran yang lebih adil dan robust terhadap potensi imbalance pada dataset."
      ],
      "metadata": {
        "id": "m483GBqQ9I7Y"
      }
    }
  ]
}