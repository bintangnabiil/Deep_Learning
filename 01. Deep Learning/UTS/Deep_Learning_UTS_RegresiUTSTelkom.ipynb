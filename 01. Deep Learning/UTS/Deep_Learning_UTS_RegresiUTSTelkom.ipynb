{
  "nbformat": 4,
  "nbformat_minor": 0,
  "metadata": {
    "colab": {
      "provenance": [],
      "mount_file_id": "1aaSYBSxxOwuvbjx_PoFpx_bhiE8FECnw",
      "authorship_tag": "ABX9TyOwZNNlTLIbukvNAke9raxi",
      "include_colab_link": true
    },
    "kernelspec": {
      "name": "python3",
      "display_name": "Python 3"
    },
    "language_info": {
      "name": "python"
    }
  },
  "cells": [
    {
      "cell_type": "markdown",
      "metadata": {
        "id": "view-in-github",
        "colab_type": "text"
      },
      "source": [
        "<a href=\"https://colab.research.google.com/github/bintangnabiil/Deep_Learning/blob/main/Deep_Learning_UTS_RegresiUTSTelkom.ipynb\" target=\"_parent\"><img src=\"https://colab.research.google.com/assets/colab-badge.svg\" alt=\"Open In Colab\"/></a>"
      ]
    },
    {
      "cell_type": "code",
      "execution_count": 1,
      "metadata": {
        "colab": {
          "base_uri": "https://localhost:8080/"
        },
        "id": "SM5YY70avHtO",
        "outputId": "47e23066-e307-41cf-8629-24f15b99ecff"
      },
      "outputs": [
        {
          "output_type": "stream",
          "name": "stdout",
          "text": [
            "   2001  49.94357  21.47114   73.0775   8.74861  -17.40628  -13.09905  \\\n",
            "0  2001  48.73215  18.42930  70.32679  12.94636  -10.32437  -24.83777   \n",
            "1  2001  50.95714  31.85602  55.81851  13.41693   -6.57898  -18.54940   \n",
            "2  2001  48.24750  -1.89837  36.29772   2.58776    0.97170  -26.21683   \n",
            "3  2001  50.97020  42.20998  67.09964   8.46791  -15.85279  -16.81409   \n",
            "4  2001  50.54767   0.31568  92.35066  22.38696  -25.51870  -19.04928   \n",
            "\n",
            "   -25.01202  -12.23257   7.83089  ...   13.0162  -54.40548  58.99367  \\\n",
            "0    8.76630   -0.92019  18.76548  ...   5.66812  -19.68073  33.04964   \n",
            "1   -3.27872   -2.35035  16.07017  ...   3.03800   26.05866 -50.92779   \n",
            "2    5.05097  -10.34124   3.55005  ...  34.57337 -171.70734 -16.96705   \n",
            "3  -12.48207   -9.37636  12.63699  ...   9.92661  -55.95724  64.92712   \n",
            "4   20.67345   -5.19943   3.63566  ...   6.59753  -50.69577  26.02574   \n",
            "\n",
            "   15.37344   1.11144  -23.08793   68.40795  -1.82223  -27.46348   2.26327  \n",
            "0  42.87836  -9.90378  -32.22788   70.49388  12.04941   58.43453  26.92061  \n",
            "1  10.93792  -0.07568   43.20130 -115.00698  -0.05859   39.67068  -0.66345  \n",
            "2 -46.67617 -12.51516   82.58061  -72.08993   9.90558  199.62971  18.85382  \n",
            "3 -17.72522  -1.49237   -7.50035   51.76631   7.88713   55.66926  28.74903  \n",
            "4  18.94430  -0.33730    6.09352   35.18381   5.00283  -11.02257   0.02263  \n",
            "\n",
            "[5 rows x 91 columns]\n",
            "<class 'pandas.core.frame.DataFrame'>\n",
            "RangeIndex: 235272 entries, 0 to 235271\n",
            "Data columns (total 91 columns):\n",
            " #   Column      Non-Null Count   Dtype  \n",
            "---  ------      --------------   -----  \n",
            " 0   2001        235272 non-null  int64  \n",
            " 1   49.94357    235272 non-null  float64\n",
            " 2   21.47114    235272 non-null  float64\n",
            " 3   73.0775     235272 non-null  float64\n",
            " 4   8.74861     235272 non-null  float64\n",
            " 5   -17.40628   235272 non-null  float64\n",
            " 6   -13.09905   235272 non-null  float64\n",
            " 7   -25.01202   235272 non-null  float64\n",
            " 8   -12.23257   235272 non-null  float64\n",
            " 9   7.83089     235272 non-null  float64\n",
            " 10  -2.46783    235272 non-null  float64\n",
            " 11  3.32136     235272 non-null  float64\n",
            " 12  -2.31521    235272 non-null  float64\n",
            " 13  10.20556    235272 non-null  float64\n",
            " 14  611.10913   235272 non-null  float64\n",
            " 15  951.0896    235272 non-null  float64\n",
            " 16  698.11428   235272 non-null  float64\n",
            " 17  408.98485   235272 non-null  float64\n",
            " 18  383.70912   235272 non-null  float64\n",
            " 19  326.51512   235272 non-null  float64\n",
            " 20  238.11327   235272 non-null  float64\n",
            " 21  251.42414   235272 non-null  float64\n",
            " 22  187.17351   235272 non-null  float64\n",
            " 23  100.42652   235272 non-null  float64\n",
            " 24  179.19498   235272 non-null  float64\n",
            " 25  -8.41558    235272 non-null  float64\n",
            " 26  -317.87038  235272 non-null  float64\n",
            " 27  95.86266    235272 non-null  float64\n",
            " 28  48.10259    235272 non-null  float64\n",
            " 29  -95.66303   235272 non-null  float64\n",
            " 30  -18.06215   235272 non-null  float64\n",
            " 31  1.96984     235272 non-null  float64\n",
            " 32  34.42438    235272 non-null  float64\n",
            " 33  11.7267     235272 non-null  float64\n",
            " 34  1.3679      235272 non-null  float64\n",
            " 35  7.79444     235272 non-null  float64\n",
            " 36  -0.36994    235272 non-null  float64\n",
            " 37  -133.67852  235272 non-null  float64\n",
            " 38  -83.26165   235272 non-null  float64\n",
            " 39  -37.29765   235272 non-null  float64\n",
            " 40  73.04667    235272 non-null  float64\n",
            " 41  -37.36684   235272 non-null  float64\n",
            " 42  -3.13853    235272 non-null  float64\n",
            " 43  -24.21531   235272 non-null  float64\n",
            " 44  -13.23066   235272 non-null  float64\n",
            " 45  15.93809    235272 non-null  float64\n",
            " 46  -18.60478   235272 non-null  float64\n",
            " 47  82.15479    235272 non-null  float64\n",
            " 48  240.5798    235272 non-null  float64\n",
            " 49  -10.29407   235272 non-null  float64\n",
            " 50  31.58431    235272 non-null  float64\n",
            " 51  -25.38187   235272 non-null  float64\n",
            " 52  -3.90772    235272 non-null  float64\n",
            " 53  13.29258    235272 non-null  float64\n",
            " 54  41.5506     235271 non-null  float64\n",
            " 55  -7.26272    235271 non-null  float64\n",
            " 56  -21.00863   235271 non-null  float64\n",
            " 57  105.50848   235271 non-null  float64\n",
            " 58  64.29856    235271 non-null  float64\n",
            " 59  26.08481    235271 non-null  float64\n",
            " 60  -44.5911    235271 non-null  float64\n",
            " 61  -8.30657    235271 non-null  float64\n",
            " 62  7.93706     235271 non-null  float64\n",
            " 63  -10.7366    235271 non-null  float64\n",
            " 64  -95.44766   235271 non-null  float64\n",
            " 65  -82.03307   235271 non-null  float64\n",
            " 66  -35.59194   235271 non-null  float64\n",
            " 67  4.69525     235271 non-null  float64\n",
            " 68  70.95626    235271 non-null  float64\n",
            " 69  28.09139    235271 non-null  float64\n",
            " 70  6.02015     235271 non-null  float64\n",
            " 71  -37.13767   235271 non-null  float64\n",
            " 72  -41.1245    235271 non-null  float64\n",
            " 73  -8.40816    235271 non-null  float64\n",
            " 74  7.19877     235271 non-null  float64\n",
            " 75  -8.60176    235271 non-null  float64\n",
            " 76  -5.90857    235271 non-null  float64\n",
            " 77  -12.32437   235271 non-null  float64\n",
            " 78  14.68734    235271 non-null  float64\n",
            " 79  -54.32125   235271 non-null  float64\n",
            " 80  40.14786    235271 non-null  float64\n",
            " 81  13.0162     235271 non-null  float64\n",
            " 82  -54.40548   235271 non-null  float64\n",
            " 83  58.99367    235271 non-null  float64\n",
            " 84  15.37344    235271 non-null  float64\n",
            " 85  1.11144     235271 non-null  float64\n",
            " 86  -23.08793   235271 non-null  float64\n",
            " 87  68.40795    235271 non-null  float64\n",
            " 88  -1.82223    235271 non-null  float64\n",
            " 89  -27.46348   235271 non-null  float64\n",
            " 90  2.26327     235271 non-null  float64\n",
            "dtypes: float64(90), int64(1)\n",
            "memory usage: 163.3 MB\n",
            "None\n"
          ]
        }
      ],
      "source": [
        "import pandas as pd\n",
        "\n",
        "df = pd.read_csv('/content/RegresiUTSTelkom.csv')\n",
        "print(df.head())\n",
        "print(df.info())"
      ]
    },
    {
      "cell_type": "markdown",
      "source": [
        "##1. a) Pengumpulan dan Pembersihan Data"
      ],
      "metadata": {
        "id": "EFApIWOl685-"
      }
    },
    {
      "cell_type": "code",
      "source": [
        "import pandas as pd\n",
        "import numpy as np\n",
        "\n",
        "# Load dataset\n",
        "df = pd.read_csv('/content/RegresiUTSTelkom.csv')\n",
        "\n",
        "# Ganti nama kolom numerik ke format yang bisa dibaca (opsional, tapi membantu)\n",
        "df.columns = [f'feature_{i}' for i in range(len(df.columns))]\n",
        "\n",
        "# Cek jumlah null\n",
        "print(\"Jumlah nilai null per kolom:\")\n",
        "print(df.isnull().sum())\n",
        "\n",
        "# Hapus baris yang mengandung null (jika ada)\n",
        "df_cleaned = df.dropna()\n",
        "\n",
        "# Cek duplikasi\n",
        "print(f\"\\nJumlah data duplikat: {df_cleaned.duplicated().sum()}\")\n",
        "\n",
        "# Hapus duplikasi (jika ada)\n",
        "df_cleaned = df_cleaned.drop_duplicates()\n",
        "\n",
        "# Info akhir setelah pembersihan\n",
        "print(\"\\nData setelah pembersihan:\")\n",
        "print(df_cleaned.info())"
      ],
      "metadata": {
        "colab": {
          "base_uri": "https://localhost:8080/"
        },
        "id": "VIByDKtY68eb",
        "outputId": "86e58d42-7a61-4265-ee4d-806eae96fb67"
      },
      "execution_count": 2,
      "outputs": [
        {
          "output_type": "stream",
          "name": "stdout",
          "text": [
            "Jumlah nilai null per kolom:\n",
            "feature_0     0\n",
            "feature_1     0\n",
            "feature_2     0\n",
            "feature_3     0\n",
            "feature_4     0\n",
            "             ..\n",
            "feature_86    1\n",
            "feature_87    1\n",
            "feature_88    1\n",
            "feature_89    1\n",
            "feature_90    1\n",
            "Length: 91, dtype: int64\n",
            "\n",
            "Jumlah data duplikat: 164\n",
            "\n",
            "Data setelah pembersihan:\n",
            "<class 'pandas.core.frame.DataFrame'>\n",
            "Index: 367913 entries, 0 to 368076\n",
            "Data columns (total 91 columns):\n",
            " #   Column      Non-Null Count   Dtype  \n",
            "---  ------      --------------   -----  \n",
            " 0   feature_0   367913 non-null  int64  \n",
            " 1   feature_1   367913 non-null  float64\n",
            " 2   feature_2   367913 non-null  float64\n",
            " 3   feature_3   367913 non-null  float64\n",
            " 4   feature_4   367913 non-null  float64\n",
            " 5   feature_5   367913 non-null  float64\n",
            " 6   feature_6   367913 non-null  float64\n",
            " 7   feature_7   367913 non-null  float64\n",
            " 8   feature_8   367913 non-null  float64\n",
            " 9   feature_9   367913 non-null  float64\n",
            " 10  feature_10  367913 non-null  float64\n",
            " 11  feature_11  367913 non-null  float64\n",
            " 12  feature_12  367913 non-null  float64\n",
            " 13  feature_13  367913 non-null  float64\n",
            " 14  feature_14  367913 non-null  float64\n",
            " 15  feature_15  367913 non-null  float64\n",
            " 16  feature_16  367913 non-null  float64\n",
            " 17  feature_17  367913 non-null  float64\n",
            " 18  feature_18  367913 non-null  float64\n",
            " 19  feature_19  367913 non-null  float64\n",
            " 20  feature_20  367913 non-null  float64\n",
            " 21  feature_21  367913 non-null  float64\n",
            " 22  feature_22  367913 non-null  float64\n",
            " 23  feature_23  367913 non-null  float64\n",
            " 24  feature_24  367913 non-null  float64\n",
            " 25  feature_25  367913 non-null  float64\n",
            " 26  feature_26  367913 non-null  float64\n",
            " 27  feature_27  367913 non-null  float64\n",
            " 28  feature_28  367913 non-null  float64\n",
            " 29  feature_29  367913 non-null  float64\n",
            " 30  feature_30  367913 non-null  float64\n",
            " 31  feature_31  367913 non-null  float64\n",
            " 32  feature_32  367913 non-null  float64\n",
            " 33  feature_33  367913 non-null  float64\n",
            " 34  feature_34  367913 non-null  float64\n",
            " 35  feature_35  367913 non-null  float64\n",
            " 36  feature_36  367913 non-null  float64\n",
            " 37  feature_37  367913 non-null  float64\n",
            " 38  feature_38  367913 non-null  float64\n",
            " 39  feature_39  367913 non-null  float64\n",
            " 40  feature_40  367913 non-null  float64\n",
            " 41  feature_41  367913 non-null  float64\n",
            " 42  feature_42  367913 non-null  float64\n",
            " 43  feature_43  367913 non-null  float64\n",
            " 44  feature_44  367913 non-null  float64\n",
            " 45  feature_45  367913 non-null  float64\n",
            " 46  feature_46  367913 non-null  float64\n",
            " 47  feature_47  367913 non-null  float64\n",
            " 48  feature_48  367913 non-null  float64\n",
            " 49  feature_49  367913 non-null  float64\n",
            " 50  feature_50  367913 non-null  float64\n",
            " 51  feature_51  367913 non-null  float64\n",
            " 52  feature_52  367913 non-null  float64\n",
            " 53  feature_53  367913 non-null  float64\n",
            " 54  feature_54  367913 non-null  float64\n",
            " 55  feature_55  367913 non-null  float64\n",
            " 56  feature_56  367913 non-null  float64\n",
            " 57  feature_57  367913 non-null  float64\n",
            " 58  feature_58  367913 non-null  float64\n",
            " 59  feature_59  367913 non-null  float64\n",
            " 60  feature_60  367913 non-null  float64\n",
            " 61  feature_61  367913 non-null  float64\n",
            " 62  feature_62  367913 non-null  float64\n",
            " 63  feature_63  367913 non-null  float64\n",
            " 64  feature_64  367913 non-null  float64\n",
            " 65  feature_65  367913 non-null  float64\n",
            " 66  feature_66  367913 non-null  float64\n",
            " 67  feature_67  367913 non-null  float64\n",
            " 68  feature_68  367913 non-null  float64\n",
            " 69  feature_69  367913 non-null  float64\n",
            " 70  feature_70  367913 non-null  float64\n",
            " 71  feature_71  367913 non-null  float64\n",
            " 72  feature_72  367913 non-null  float64\n",
            " 73  feature_73  367913 non-null  float64\n",
            " 74  feature_74  367913 non-null  float64\n",
            " 75  feature_75  367913 non-null  float64\n",
            " 76  feature_76  367913 non-null  float64\n",
            " 77  feature_77  367913 non-null  float64\n",
            " 78  feature_78  367913 non-null  float64\n",
            " 79  feature_79  367913 non-null  float64\n",
            " 80  feature_80  367913 non-null  float64\n",
            " 81  feature_81  367913 non-null  float64\n",
            " 82  feature_82  367913 non-null  float64\n",
            " 83  feature_83  367913 non-null  float64\n",
            " 84  feature_84  367913 non-null  float64\n",
            " 85  feature_85  367913 non-null  float64\n",
            " 86  feature_86  367913 non-null  float64\n",
            " 87  feature_87  367913 non-null  float64\n",
            " 88  feature_88  367913 non-null  float64\n",
            " 89  feature_89  367913 non-null  float64\n",
            " 90  feature_90  367913 non-null  float64\n",
            "dtypes: float64(90), int64(1)\n",
            "memory usage: 258.2 MB\n",
            "None\n"
          ]
        }
      ]
    },
    {
      "cell_type": "markdown",
      "source": [
        "##b) Feature Engineering"
      ],
      "metadata": {
        "id": "7gi6y-1L7cd0"
      }
    },
    {
      "cell_type": "code",
      "source": [
        "from sklearn.model_selection import train_test_split\n",
        "from sklearn.preprocessing import StandardScaler\n",
        "\n",
        "# Pisahkan fitur dan target\n",
        "X = df_cleaned.drop(columns=['feature_90'])  # semua kolom kecuali kolom target\n",
        "y = df_cleaned['feature_90']  # kolom target regresi\n",
        "\n",
        "# Bagi data menjadi train dan test\n",
        "X_train, X_test, y_train, y_test = train_test_split(X, y, test_size=0.2, random_state=42)\n",
        "\n",
        "# Standarisasi fitur\n",
        "scaler = StandardScaler()\n",
        "X_train_scaled = scaler.fit_transform(X_train)\n",
        "X_test_scaled = scaler.transform(X_test)\n",
        "\n",
        "# Cek bentuk hasil\n",
        "print(\"Bentuk X_train_scaled:\", X_train_scaled.shape)\n",
        "print(\"Bentuk y_train:\", y_train.shape)"
      ],
      "metadata": {
        "colab": {
          "base_uri": "https://localhost:8080/"
        },
        "id": "kQnn1NjP7Se_",
        "outputId": "28293186-0f6c-4a0b-8daa-c26087d63580"
      },
      "execution_count": 3,
      "outputs": [
        {
          "output_type": "stream",
          "name": "stdout",
          "text": [
            "Bentuk X_train_scaled: (294330, 90)\n",
            "Bentuk y_train: (294330,)\n"
          ]
        }
      ]
    },
    {
      "cell_type": "markdown",
      "source": [
        "##c) Model-Model"
      ],
      "metadata": {
        "id": "u_dB_uIV7oCk"
      }
    },
    {
      "cell_type": "markdown",
      "source": [
        "###MLP Regresi dengan TensorFlow"
      ],
      "metadata": {
        "id": "2wfS-TgF7rGV"
      }
    },
    {
      "cell_type": "code",
      "source": [
        "import tensorflow as tf\n",
        "from tensorflow.keras.models import Sequential\n",
        "from tensorflow.keras.layers import Dense, Dropout\n",
        "from tensorflow.keras.optimizers import Adam\n",
        "from sklearn.model_selection import train_test_split\n",
        "from sklearn.preprocessing import StandardScaler\n",
        "\n",
        "# ===== 1. Feature Engineering =====\n",
        "# Pisahkan fitur dan target\n",
        "tf_X = df_cleaned.drop(columns=['feature_90'])\n",
        "tf_y = df_cleaned['feature_90']\n",
        "\n",
        "# Split data train-test\n",
        "tf_X_train, tf_X_test, tf_y_train, tf_y_test = train_test_split(tf_X, tf_y, test_size=0.2, random_state=42)\n",
        "\n",
        "# Standarisasi\n",
        "tf_scaler = StandardScaler()\n",
        "tf_X_train_scaled = tf_scaler.fit_transform(tf_X_train)\n",
        "tf_X_test_scaled = tf_scaler.transform(tf_X_test)\n",
        "\n",
        "# ===== 2. Bangun Model MLP Regresi =====\n",
        "tf_model = Sequential([\n",
        "    Dense(128, activation='relu', input_shape=(tf_X_train_scaled.shape[1],)),\n",
        "    Dropout(0.2),\n",
        "    Dense(64, activation='relu'),\n",
        "    Dropout(0.2),\n",
        "    Dense(32, activation='relu'),\n",
        "    Dense(1)  # Output layer untuk regresi\n",
        "])\n",
        "\n",
        "# Kompilasi model\n",
        "tf_model.compile(optimizer=Adam(learning_rate=0.001),\n",
        "                 loss='mse',\n",
        "                 metrics=['mae'])\n",
        "\n",
        "# ===== 3. Training =====\n",
        "tf_history = tf_model.fit(tf_X_train_scaled, tf_y_train,\n",
        "                          epochs=20,\n",
        "                          batch_size=64,\n",
        "                          validation_split=0.1,\n",
        "                          verbose=1)"
      ],
      "metadata": {
        "colab": {
          "base_uri": "https://localhost:8080/"
        },
        "id": "q1PPVVy07pza",
        "outputId": "85b03600-535b-4c6c-98cc-f275f4b0b953"
      },
      "execution_count": 5,
      "outputs": [
        {
          "output_type": "stream",
          "name": "stderr",
          "text": [
            "/usr/local/lib/python3.11/dist-packages/keras/src/layers/core/dense.py:87: UserWarning: Do not pass an `input_shape`/`input_dim` argument to a layer. When using Sequential models, prefer using an `Input(shape)` object as the first layer in the model instead.\n",
            "  super().__init__(activity_regularizer=activity_regularizer, **kwargs)\n"
          ]
        },
        {
          "output_type": "stream",
          "name": "stdout",
          "text": [
            "Epoch 1/20\n",
            "\u001b[1m4140/4140\u001b[0m \u001b[32m━━━━━━━━━━━━━━━━━━━━\u001b[0m\u001b[37m\u001b[0m \u001b[1m16s\u001b[0m 3ms/step - loss: 236.1921 - mae: 10.1351 - val_loss: 113.2719 - val_mae: 7.2919\n",
            "Epoch 2/20\n",
            "\u001b[1m4140/4140\u001b[0m \u001b[32m━━━━━━━━━━━━━━━━━━━━\u001b[0m\u001b[37m\u001b[0m \u001b[1m19s\u001b[0m 3ms/step - loss: 125.9147 - mae: 7.7430 - val_loss: 102.3203 - val_mae: 6.9544\n",
            "Epoch 3/20\n",
            "\u001b[1m4140/4140\u001b[0m \u001b[32m━━━━━━━━━━━━━━━━━━━━\u001b[0m\u001b[37m\u001b[0m \u001b[1m11s\u001b[0m 3ms/step - loss: 112.1686 - mae: 7.3509 - val_loss: 94.3410 - val_mae: 6.7457\n",
            "Epoch 4/20\n",
            "\u001b[1m4140/4140\u001b[0m \u001b[32m━━━━━━━━━━━━━━━━━━━━\u001b[0m\u001b[37m\u001b[0m \u001b[1m22s\u001b[0m 3ms/step - loss: 106.0930 - mae: 7.1521 - val_loss: 94.6987 - val_mae: 6.7235\n",
            "Epoch 5/20\n",
            "\u001b[1m4140/4140\u001b[0m \u001b[32m━━━━━━━━━━━━━━━━━━━━\u001b[0m\u001b[37m\u001b[0m \u001b[1m12s\u001b[0m 3ms/step - loss: 102.4772 - mae: 7.0334 - val_loss: 91.9745 - val_mae: 6.6607\n",
            "Epoch 6/20\n",
            "\u001b[1m4140/4140\u001b[0m \u001b[32m━━━━━━━━━━━━━━━━━━━━\u001b[0m\u001b[37m\u001b[0m \u001b[1m12s\u001b[0m 3ms/step - loss: 100.9331 - mae: 6.9703 - val_loss: 91.4503 - val_mae: 6.6400\n",
            "Epoch 7/20\n",
            "\u001b[1m4140/4140\u001b[0m \u001b[32m━━━━━━━━━━━━━━━━━━━━\u001b[0m\u001b[37m\u001b[0m \u001b[1m13s\u001b[0m 3ms/step - loss: 97.2177 - mae: 6.8825 - val_loss: 89.4257 - val_mae: 6.5690\n",
            "Epoch 8/20\n",
            "\u001b[1m4140/4140\u001b[0m \u001b[32m━━━━━━━━━━━━━━━━━━━━\u001b[0m\u001b[37m\u001b[0m \u001b[1m20s\u001b[0m 3ms/step - loss: 96.8696 - mae: 6.8509 - val_loss: 94.3302 - val_mae: 6.7271\n",
            "Epoch 9/20\n",
            "\u001b[1m4140/4140\u001b[0m \u001b[32m━━━━━━━━━━━━━━━━━━━━\u001b[0m\u001b[37m\u001b[0m \u001b[1m20s\u001b[0m 3ms/step - loss: 93.5932 - mae: 6.7663 - val_loss: 88.1094 - val_mae: 6.4872\n",
            "Epoch 10/20\n",
            "\u001b[1m4140/4140\u001b[0m \u001b[32m━━━━━━━━━━━━━━━━━━━━\u001b[0m\u001b[37m\u001b[0m \u001b[1m20s\u001b[0m 3ms/step - loss: 93.3809 - mae: 6.7591 - val_loss: 90.0788 - val_mae: 6.6211\n",
            "Epoch 11/20\n",
            "\u001b[1m4140/4140\u001b[0m \u001b[32m━━━━━━━━━━━━━━━━━━━━\u001b[0m\u001b[37m\u001b[0m \u001b[1m12s\u001b[0m 3ms/step - loss: 91.8551 - mae: 6.7114 - val_loss: 92.2435 - val_mae: 6.6392\n",
            "Epoch 12/20\n",
            "\u001b[1m4140/4140\u001b[0m \u001b[32m━━━━━━━━━━━━━━━━━━━━\u001b[0m\u001b[37m\u001b[0m \u001b[1m12s\u001b[0m 3ms/step - loss: 90.9840 - mae: 6.6894 - val_loss: 91.6577 - val_mae: 6.6104\n",
            "Epoch 13/20\n",
            "\u001b[1m4140/4140\u001b[0m \u001b[32m━━━━━━━━━━━━━━━━━━━━\u001b[0m\u001b[37m\u001b[0m \u001b[1m21s\u001b[0m 3ms/step - loss: 88.5555 - mae: 6.6299 - val_loss: 96.3970 - val_mae: 6.7607\n",
            "Epoch 14/20\n",
            "\u001b[1m4140/4140\u001b[0m \u001b[32m━━━━━━━━━━━━━━━━━━━━\u001b[0m\u001b[37m\u001b[0m \u001b[1m13s\u001b[0m 3ms/step - loss: 87.4240 - mae: 6.5833 - val_loss: 96.1167 - val_mae: 6.7477\n",
            "Epoch 15/20\n",
            "\u001b[1m4140/4140\u001b[0m \u001b[32m━━━━━━━━━━━━━━━━━━━━\u001b[0m\u001b[37m\u001b[0m \u001b[1m20s\u001b[0m 3ms/step - loss: 87.9603 - mae: 6.6091 - val_loss: 90.6725 - val_mae: 6.5813\n",
            "Epoch 16/20\n",
            "\u001b[1m4140/4140\u001b[0m \u001b[32m━━━━━━━━━━━━━━━━━━━━\u001b[0m\u001b[37m\u001b[0m \u001b[1m12s\u001b[0m 3ms/step - loss: 87.0027 - mae: 6.5699 - val_loss: 95.4368 - val_mae: 6.7094\n",
            "Epoch 17/20\n",
            "\u001b[1m4140/4140\u001b[0m \u001b[32m━━━━━━━━━━━━━━━━━━━━\u001b[0m\u001b[37m\u001b[0m \u001b[1m12s\u001b[0m 3ms/step - loss: 86.1826 - mae: 6.5421 - val_loss: 94.4395 - val_mae: 6.7569\n",
            "Epoch 18/20\n",
            "\u001b[1m4140/4140\u001b[0m \u001b[32m━━━━━━━━━━━━━━━━━━━━\u001b[0m\u001b[37m\u001b[0m \u001b[1m20s\u001b[0m 3ms/step - loss: 85.7790 - mae: 6.5274 - val_loss: 91.5309 - val_mae: 6.6251\n",
            "Epoch 19/20\n",
            "\u001b[1m4140/4140\u001b[0m \u001b[32m━━━━━━━━━━━━━━━━━━━━\u001b[0m\u001b[37m\u001b[0m \u001b[1m12s\u001b[0m 3ms/step - loss: 86.0797 - mae: 6.5187 - val_loss: 97.4971 - val_mae: 6.7784\n",
            "Epoch 20/20\n",
            "\u001b[1m4140/4140\u001b[0m \u001b[32m━━━━━━━━━━━━━━━━━━━━\u001b[0m\u001b[37m\u001b[0m \u001b[1m12s\u001b[0m 3ms/step - loss: 84.2651 - mae: 6.4809 - val_loss: 89.9007 - val_mae: 6.5592\n"
          ]
        }
      ]
    },
    {
      "cell_type": "markdown",
      "source": [
        "###Simpan Model dan Scaler"
      ],
      "metadata": {
        "id": "y4WfP-T79_i5"
      }
    },
    {
      "cell_type": "code",
      "source": [
        "from google.colab import drive\n",
        "drive.mount('/content/drive')"
      ],
      "metadata": {
        "colab": {
          "base_uri": "https://localhost:8080/"
        },
        "id": "OaY0zmfp-RbZ",
        "outputId": "0658e949-93f9-480e-acda-b3a4065b5363"
      },
      "execution_count": 7,
      "outputs": [
        {
          "output_type": "stream",
          "name": "stdout",
          "text": [
            "Drive already mounted at /content/drive; to attempt to forcibly remount, call drive.mount(\"/content/drive\", force_remount=True).\n"
          ]
        }
      ]
    },
    {
      "cell_type": "code",
      "source": [
        "# Simpan model\n",
        "tf_model.save('/content/drive/MyDrive/Models/tf_model_regresi.h5')\n",
        "\n",
        "# Simpan scaler\n",
        "import joblib\n",
        "joblib.dump(tf_scaler, '/content/drive/MyDrive/Models/tf_scaler.save')"
      ],
      "metadata": {
        "colab": {
          "base_uri": "https://localhost:8080/"
        },
        "id": "xgYUuq9M-V7K",
        "outputId": "46dc12f5-f4c7-479e-d455-04e66e610087"
      },
      "execution_count": 8,
      "outputs": [
        {
          "output_type": "stream",
          "name": "stderr",
          "text": [
            "WARNING:absl:You are saving your model as an HDF5 file via `model.save()` or `keras.saving.save_model(model)`. This file format is considered legacy. We recommend using instead the native Keras format, e.g. `model.save('my_model.keras')` or `keras.saving.save_model(model, 'my_model.keras')`. \n"
          ]
        },
        {
          "output_type": "execute_result",
          "data": {
            "text/plain": [
              "['/content/drive/MyDrive/Models/tf_scaler.save']"
            ]
          },
          "metadata": {},
          "execution_count": 8
        }
      ]
    },
    {
      "cell_type": "code",
      "source": [
        "from tensorflow.keras.models import load_model\n",
        "\n",
        "#Load ulang\n",
        "tf_model = load_model('/content/drive/MyDrive/Models/tf_model_regresi.h5')\n",
        "\n",
        "tf_scaler = joblib.load('/content/drive/MyDrive/Models/tf_scaler.save')"
      ],
      "metadata": {
        "id": "Bue2kWUv-apX"
      },
      "execution_count": null,
      "outputs": []
    },
    {
      "cell_type": "markdown",
      "source": [
        "###MLP Regresi dengan PyTorch"
      ],
      "metadata": {
        "id": "a7qGQp6A-6Nk"
      }
    },
    {
      "cell_type": "code",
      "source": [
        "import torch\n",
        "import torch.nn as nn\n",
        "import torch.optim as optim\n",
        "from torch.utils.data import DataLoader, TensorDataset, random_split\n",
        "from sklearn.model_selection import train_test_split\n",
        "from sklearn.preprocessing import StandardScaler\n",
        "\n",
        "# ===== 1. Feature Engineering (ulang untuk PyTorch) =====\n",
        "py_X = df_cleaned.drop(columns=['feature_90']).values\n",
        "py_y = df_cleaned['feature_90'].values.reshape(-1, 1)\n",
        "\n",
        "# Split data\n",
        "py_X_train, py_X_test, py_y_train, py_y_test = train_test_split(py_X, py_y, test_size=0.2, random_state=42)\n",
        "\n",
        "# Scaling\n",
        "py_scaler = StandardScaler()\n",
        "py_X_train_scaled = py_scaler.fit_transform(py_X_train)\n",
        "py_X_test_scaled = py_scaler.transform(py_X_test)\n",
        "\n",
        "# Convert to tensors\n",
        "py_X_train_tensor = torch.tensor(py_X_train_scaled, dtype=torch.float32)\n",
        "py_y_train_tensor = torch.tensor(py_y_train, dtype=torch.float32)\n",
        "py_X_test_tensor = torch.tensor(py_X_test_scaled, dtype=torch.float32)\n",
        "py_y_test_tensor = torch.tensor(py_y_test, dtype=torch.float32)\n",
        "\n",
        "# Buat dataset dan dataloader\n",
        "py_train_dataset = TensorDataset(py_X_train_tensor, py_y_train_tensor)\n",
        "py_train_loader = DataLoader(py_train_dataset, batch_size=64, shuffle=True)"
      ],
      "metadata": {
        "id": "xaHlCTZm_AJi"
      },
      "execution_count": 17,
      "outputs": []
    },
    {
      "cell_type": "code",
      "source": [
        "# Define MLP model\n",
        "class PyMLPRegressor(nn.Module):\n",
        "    def __init__(self, input_dim):\n",
        "        super(PyMLPRegressor, self).__init__()\n",
        "        self.model = nn.Sequential(\n",
        "            nn.Linear(input_dim, 128),\n",
        "            nn.ReLU(),\n",
        "            nn.Dropout(0.2),\n",
        "            nn.Linear(128, 64),\n",
        "            nn.ReLU(),\n",
        "            nn.Dropout(0.2),\n",
        "            nn.Linear(64, 32),\n",
        "            nn.ReLU(),\n",
        "            nn.Linear(32, 1)  # Output layer\n",
        "        )\n",
        "\n",
        "    def forward(self, x):\n",
        "        return self.model(x)\n",
        "\n",
        "# Inisialisasi model, loss, optimizer\n",
        "py_model = PyMLPRegressor(input_dim=py_X_train_tensor.shape[1])\n",
        "py_criterion = nn.MSELoss()\n",
        "py_optimizer = optim.Adam(py_model.parameters(), lr=0.001)"
      ],
      "metadata": {
        "id": "hI9xlXaI_F-3"
      },
      "execution_count": 18,
      "outputs": []
    },
    {
      "cell_type": "code",
      "source": [
        "# Training loop\n",
        "py_epochs = 20\n",
        "for epoch in range(py_epochs):\n",
        "    py_model.train()\n",
        "    epoch_loss = 0.0\n",
        "    for py_batch_X, py_batch_y in py_train_loader:\n",
        "        py_optimizer.zero_grad()\n",
        "        py_outputs = py_model(py_batch_X)\n",
        "        py_loss = py_criterion(py_outputs, py_batch_y)\n",
        "        py_loss.backward()\n",
        "        py_optimizer.step()\n",
        "        epoch_loss += py_loss.item()\n",
        "    print(f\"Epoch {epoch+1}/{py_epochs}, Loss: {epoch_loss:.4f}\")"
      ],
      "metadata": {
        "colab": {
          "base_uri": "https://localhost:8080/"
        },
        "id": "7TU4VSX-_J6k",
        "outputId": "b1d2ddd2-0c34-429c-c35c-b5e966025352"
      },
      "execution_count": 19,
      "outputs": [
        {
          "output_type": "stream",
          "name": "stdout",
          "text": [
            "Epoch 1/20, Loss: 784082.1891\n",
            "Epoch 2/20, Loss: 554282.9386\n",
            "Epoch 3/20, Loss: 518285.6699\n",
            "Epoch 4/20, Loss: 492136.2187\n",
            "Epoch 5/20, Loss: 477973.6479\n",
            "Epoch 6/20, Loss: 462635.3960\n",
            "Epoch 7/20, Loss: 456392.1067\n",
            "Epoch 8/20, Loss: 448048.1142\n",
            "Epoch 9/20, Loss: 438019.8690\n",
            "Epoch 10/20, Loss: 434954.9948\n",
            "Epoch 11/20, Loss: 436088.8980\n",
            "Epoch 12/20, Loss: 428877.6790\n",
            "Epoch 13/20, Loss: 424084.8150\n",
            "Epoch 14/20, Loss: 419500.5316\n",
            "Epoch 15/20, Loss: 414499.2936\n",
            "Epoch 16/20, Loss: 411851.3713\n",
            "Epoch 17/20, Loss: 408518.5688\n",
            "Epoch 18/20, Loss: 408383.7375\n",
            "Epoch 19/20, Loss: 405728.5947\n",
            "Epoch 20/20, Loss: 402141.7701\n"
          ]
        }
      ]
    },
    {
      "cell_type": "code",
      "source": [
        "print(y.isnull().sum())\n",
        "print(y.dtype)"
      ],
      "metadata": {
        "colab": {
          "base_uri": "https://localhost:8080/"
        },
        "id": "OxOD5g2CEK99",
        "outputId": "903df402-8ce7-413a-d01b-2fd84163998b"
      },
      "execution_count": 21,
      "outputs": [
        {
          "output_type": "stream",
          "name": "stdout",
          "text": [
            "0\n",
            "int64\n"
          ]
        }
      ]
    },
    {
      "cell_type": "markdown",
      "source": [
        "##2. Matriks Evaluasi Regresi"
      ],
      "metadata": {
        "id": "TtB0HLB0CGLj"
      }
    },
    {
      "cell_type": "markdown",
      "source": [
        "###Pisahkan Fitur dan Target"
      ],
      "metadata": {
        "id": "WX37WxkeFZ1j"
      }
    },
    {
      "cell_type": "code",
      "source": [
        "import pandas as pd\n",
        "\n",
        "df = pd.read_csv('/content/RegresiUTSTelkom.csv')\n",
        "\n",
        "# Pisahkan fitur dan target\n",
        "X = df.iloc[:, 1:]  # semua kolom kecuali pertama\n",
        "y = df.iloc[:, 0]   # kolom pertama adalah target"
      ],
      "metadata": {
        "id": "lGuAqEjAE3_-"
      },
      "execution_count": 25,
      "outputs": []
    },
    {
      "cell_type": "markdown",
      "source": [
        "###Regresi: Model dan Evaluasi"
      ],
      "metadata": {
        "id": "ey2vq6HcFe-R"
      }
    },
    {
      "cell_type": "code",
      "source": [
        "from sklearn.model_selection import train_test_split\n",
        "from sklearn.preprocessing import StandardScaler\n",
        "from sklearn.metrics import mean_squared_error, r2_score\n",
        "import numpy as np\n",
        "import matplotlib.pyplot as plt\n",
        "import tensorflow as tf\n",
        "\n",
        "# Split data\n",
        "X_train, X_test, y_train, y_test = train_test_split(X, y, test_size=0.2, random_state=42)\n",
        "\n",
        "# Scaling\n",
        "scaler = StandardScaler()\n",
        "X_train_scaled = scaler.fit_transform(X_train)\n",
        "X_test_scaled = scaler.transform(X_test)\n",
        "\n",
        "# Build model\n",
        "model = tf.keras.Sequential([\n",
        "    tf.keras.layers.Dense(128, activation='relu', input_shape=(X_train.shape[1],)),\n",
        "    tf.keras.layers.Dense(64, activation='relu'),\n",
        "    tf.keras.layers.Dense(1)\n",
        "])\n",
        "\n",
        "model.compile(optimizer='adam', loss='mse')\n",
        "\n",
        "# Train\n",
        "history = model.fit(X_train_scaled, y_train, epochs=10, validation_split=0.2)\n",
        "\n",
        "# Predict\n",
        "y_pred = model.predict(X_test_scaled).flatten()\n",
        "\n",
        "# Eval\n",
        "mse = mean_squared_error(y_test, y_pred)\n",
        "rmse = np.sqrt(mse)\n",
        "r2 = r2_score(y_test, y_pred)\n",
        "\n",
        "print(f'MSE: {mse}')\n",
        "print(f'RMSE: {rmse}')\n",
        "print(f'R2: {r2}')\n",
        "\n",
        "# Plot\n",
        "plt.figure(figsize=(8, 6))\n",
        "plt.scatter(y_test, y_pred, alpha=0.3)\n",
        "plt.xlabel('Actual Values')\n",
        "plt.ylabel('Predicted Values')\n",
        "plt.title('Actual vs Predicted')\n",
        "plt.plot([y.min(), y.max()], [y.min(), y.max()], 'r--')\n",
        "plt.show()"
      ],
      "metadata": {
        "colab": {
          "base_uri": "https://localhost:8080/",
          "height": 1000
        },
        "id": "Y_78ON2nE90H",
        "outputId": "81a8a842-a075-4269-e918-0db08cd94e6a"
      },
      "execution_count": 26,
      "outputs": [
        {
          "output_type": "stream",
          "name": "stderr",
          "text": [
            "/usr/local/lib/python3.11/dist-packages/keras/src/layers/core/dense.py:87: UserWarning: Do not pass an `input_shape`/`input_dim` argument to a layer. When using Sequential models, prefer using an `Input(shape)` object as the first layer in the model instead.\n",
            "  super().__init__(activity_regularizer=activity_regularizer, **kwargs)\n"
          ]
        },
        {
          "output_type": "stream",
          "name": "stdout",
          "text": [
            "Epoch 1/10\n",
            "\u001b[1m10307/10307\u001b[0m \u001b[32m━━━━━━━━━━━━━━━━━━━━\u001b[0m\u001b[37m\u001b[0m \u001b[1m27s\u001b[0m 3ms/step - loss: 417564.4688 - val_loss: 721.0325\n",
            "Epoch 2/10\n",
            "\u001b[1m10307/10307\u001b[0m \u001b[32m━━━━━━━━━━━━━━━━━━━━\u001b[0m\u001b[37m\u001b[0m \u001b[1m26s\u001b[0m 3ms/step - loss: 338.7675 - val_loss: 170.5966\n",
            "Epoch 3/10\n",
            "\u001b[1m10307/10307\u001b[0m \u001b[32m━━━━━━━━━━━━━━━━━━━━\u001b[0m\u001b[37m\u001b[0m \u001b[1m27s\u001b[0m 3ms/step - loss: 226.4763 - val_loss: 155.7043\n",
            "Epoch 4/10\n",
            "\u001b[1m10307/10307\u001b[0m \u001b[32m━━━━━━━━━━━━━━━━━━━━\u001b[0m\u001b[37m\u001b[0m \u001b[1m30s\u001b[0m 3ms/step - loss: 215.8788 - val_loss: 146.2989\n",
            "Epoch 5/10\n",
            "\u001b[1m10307/10307\u001b[0m \u001b[32m━━━━━━━━━━━━━━━━━━━━\u001b[0m\u001b[37m\u001b[0m \u001b[1m49s\u001b[0m 4ms/step - loss: 223.7033 - val_loss: 144.8966\n",
            "Epoch 6/10\n",
            "\u001b[1m10307/10307\u001b[0m \u001b[32m━━━━━━━━━━━━━━━━━━━━\u001b[0m\u001b[37m\u001b[0m \u001b[1m26s\u001b[0m 3ms/step - loss: 214.3099 - val_loss: 105.4781\n",
            "Epoch 7/10\n",
            "\u001b[1m10307/10307\u001b[0m \u001b[32m━━━━━━━━━━━━━━━━━━━━\u001b[0m\u001b[37m\u001b[0m \u001b[1m26s\u001b[0m 3ms/step - loss: 232.0659 - val_loss: 124.8290\n",
            "Epoch 8/10\n",
            "\u001b[1m10307/10307\u001b[0m \u001b[32m━━━━━━━━━━━━━━━━━━━━\u001b[0m\u001b[37m\u001b[0m \u001b[1m42s\u001b[0m 3ms/step - loss: 204.6107 - val_loss: 447.2195\n",
            "Epoch 9/10\n",
            "\u001b[1m10307/10307\u001b[0m \u001b[32m━━━━━━━━━━━━━━━━━━━━\u001b[0m\u001b[37m\u001b[0m \u001b[1m38s\u001b[0m 2ms/step - loss: 236.3114 - val_loss: 141.2925\n",
            "Epoch 10/10\n",
            "\u001b[1m10307/10307\u001b[0m \u001b[32m━━━━━━━━━━━━━━━━━━━━\u001b[0m\u001b[37m\u001b[0m \u001b[1m27s\u001b[0m 3ms/step - loss: 162.3690 - val_loss: 183.0863\n",
            "\u001b[1m3221/3221\u001b[0m \u001b[32m━━━━━━━━━━━━━━━━━━━━\u001b[0m\u001b[37m\u001b[0m \u001b[1m5s\u001b[0m 1ms/step\n",
            "MSE: 182.83050537109375\n",
            "RMSE: 13.521483105454584\n",
            "R2: -0.5404369831085205\n"
          ]
        },
        {
          "output_type": "display_data",
          "data": {
            "text/plain": [
              "<Figure size 800x600 with 1 Axes>"
            ],
            "image/png": "[encoded data removed]"
          },
          "metadata": {}
        }
      ]
    },
    {
      "cell_type": "markdown",
      "source": [
        "###Klasifikasi (Dibuat dari Target)"
      ],
      "metadata": {
        "id": "P-ivmkBGFjtD"
      }
    },
    {
      "cell_type": "code",
      "source": [
        "median_value = y.median()\n",
        "y_class = (y > median_value).astype(int)"
      ],
      "metadata": {
        "id": "-OysxWmfEYMN"
      },
      "execution_count": 22,
      "outputs": []
    },
    {
      "cell_type": "code",
      "source": [
        "print(X.shape)\n",
        "print(y.shape)\n",
        "print(y_class.shape)"
      ],
      "metadata": {
        "colab": {
          "base_uri": "https://localhost:8080/"
        },
        "id": "4hvtgxVRGnn1",
        "outputId": "acd84bd5-13a9-4451-ab8f-e71a8b90d9cb"
      },
      "execution_count": 28,
      "outputs": [
        {
          "output_type": "stream",
          "name": "stdout",
          "text": [
            "(515344, 90)\n",
            "(515344,)\n",
            "(368078,)\n"
          ]
        }
      ]
    },
    {
      "cell_type": "code",
      "source": [
        "from sklearn.model_selection import train_test_split\n",
        "from sklearn.preprocessing import StandardScaler\n",
        "from sklearn.metrics import accuracy_score, precision_score, recall_score, f1_score, roc_auc_score, confusion_matrix\n",
        "import seaborn as sns\n",
        "import matplotlib.pyplot as plt\n",
        "import tensorflow as tf\n",
        "\n",
        "# === STEP 1: Ambil data (pastikan ini konsisten) ===\n",
        "# Misal df adalah dataframe utama yang udah kamu load:\n",
        "# df = pd.read_csv('xxx.csv')\n",
        "\n",
        "# Ambil target kolom pertama (pastikan ini diambil dari df yang sama dengan X)\n",
        "y = df.iloc[:, 0]\n",
        "X = df.iloc[:, 1:]\n",
        "\n",
        "# === STEP 2: Bikin binary class dari target yang SAMA ===\n",
        "median_value = y.median()\n",
        "y_class = (y > median_value).astype(int)\n",
        "\n",
        "# --- Optional: cek bentuk biar aman ---\n",
        "print(f'X shape: {X.shape}')\n",
        "print(f'y_class shape: {y_class.shape}')\n",
        "\n",
        "# === STEP 3: Train-test split ===\n",
        "X_train, X_test, y_train, y_test = train_test_split(X, y_class, test_size=0.2, random_state=42)\n",
        "\n",
        "# === STEP 4: Scaling ===\n",
        "scaler = StandardScaler()\n",
        "X_train_scaled = scaler.fit_transform(X_train)\n",
        "X_test_scaled = scaler.transform(X_test)\n",
        "\n",
        "# === STEP 5: Build model ===\n",
        "clf_model = tf.keras.Sequential([\n",
        "    tf.keras.layers.Dense(128, activation='relu', input_shape=(X_train.shape[1],)),\n",
        "    tf.keras.layers.Dense(64, activation='relu'),\n",
        "    tf.keras.layers.Dense(1, activation='sigmoid')\n",
        "])\n",
        "\n",
        "clf_model.compile(optimizer='adam', loss='binary_crossentropy', metrics=['accuracy'])\n",
        "\n",
        "# === STEP 6: Train ===\n",
        "clf_model.fit(X_train_scaled, y_train, epochs=10, validation_split=0.2)\n",
        "\n",
        "# === STEP 7: Predict ===\n",
        "y_pred_prob = clf_model.predict(X_test_scaled).flatten()\n",
        "y_pred_class = (y_pred_prob > 0.5).astype(int)\n",
        "\n",
        "# === STEP 8: Evaluation ===\n",
        "acc = accuracy_score(y_test, y_pred_class)\n",
        "prec = precision_score(y_test, y_pred_class)\n",
        "rec = recall_score(y_test, y_pred_class)\n",
        "f1 = f1_score(y_test, y_pred_class)\n",
        "auc = roc_auc_score(y_test, y_pred_prob)\n",
        "\n",
        "print(f'Accuracy: {acc:.4f}')\n",
        "print(f'Precision: {prec:.4f}')\n",
        "print(f'Recall: {rec:.4f}')\n",
        "print(f'F1-Score: {f1:.4f}')\n",
        "print(f'AUC-ROC: {auc:.4f}')\n",
        "\n",
        "# === STEP 9: Confusion Matrix ===\n",
        "cm = confusion_matrix(y_test, y_pred_class)\n",
        "\n",
        "plt.figure(figsize=(6, 4))\n",
        "sns.heatmap(cm, annot=True, fmt='d', cmap='Blues')\n",
        "plt.xlabel('Predicted')\n",
        "plt.ylabel('Actual')\n",
        "plt.title('Confusion Matrix')\n",
        "plt.show()"
      ],
      "metadata": {
        "colab": {
          "base_uri": "https://localhost:8080/",
          "height": 977
        },
        "id": "ZJEeXJCyEzoY",
        "outputId": "5bc0608b-672d-48f5-c409-69d074fe2f46"
      },
      "execution_count": 29,
      "outputs": [
        {
          "output_type": "stream",
          "name": "stdout",
          "text": [
            "X shape: (515344, 90)\n",
            "y_class shape: (515344,)\n"
          ]
        },
        {
          "output_type": "stream",
          "name": "stderr",
          "text": [
            "/usr/local/lib/python3.11/dist-packages/keras/src/layers/core/dense.py:87: UserWarning: Do not pass an `input_shape`/`input_dim` argument to a layer. When using Sequential models, prefer using an `Input(shape)` object as the first layer in the model instead.\n",
            "  super().__init__(activity_regularizer=activity_regularizer, **kwargs)\n"
          ]
        },
        {
          "output_type": "stream",
          "name": "stdout",
          "text": [
            "Epoch 1/10\n",
            "\u001b[1m10307/10307\u001b[0m \u001b[32m━━━━━━━━━━━━━━━━━━━━\u001b[0m\u001b[37m\u001b[0m \u001b[1m28s\u001b[0m 3ms/step - accuracy: 0.7071 - loss: 0.5699 - val_accuracy: 0.7306 - val_loss: 0.5378\n",
            "Epoch 2/10\n",
            "\u001b[1m10307/10307\u001b[0m \u001b[32m━━━━━━━━━━━━━━━━━━━━\u001b[0m\u001b[37m\u001b[0m \u001b[1m27s\u001b[0m 3ms/step - accuracy: 0.7331 - loss: 0.5337 - val_accuracy: 0.7329 - val_loss: 0.5373\n",
            "Epoch 3/10\n",
            "\u001b[1m10307/10307\u001b[0m \u001b[32m━━━━━━━━━━━━━━━━━━━━\u001b[0m\u001b[37m\u001b[0m \u001b[1m28s\u001b[0m 3ms/step - accuracy: 0.7406 - loss: 0.5243 - val_accuracy: 0.7355 - val_loss: 0.5322\n",
            "Epoch 4/10\n",
            "\u001b[1m10307/10307\u001b[0m \u001b[32m━━━━━━━━━━━━━━━━━━━━\u001b[0m\u001b[37m\u001b[0m \u001b[1m39s\u001b[0m 3ms/step - accuracy: 0.7430 - loss: 0.5191 - val_accuracy: 0.7372 - val_loss: 0.5283\n",
            "Epoch 5/10\n",
            "\u001b[1m10307/10307\u001b[0m \u001b[32m━━━━━━━━━━━━━━━━━━━━\u001b[0m\u001b[37m\u001b[0m \u001b[1m29s\u001b[0m 3ms/step - accuracy: 0.7456 - loss: 0.5153 - val_accuracy: 0.7385 - val_loss: 0.5283\n",
            "Epoch 6/10\n",
            "\u001b[1m10307/10307\u001b[0m \u001b[32m━━━━━━━━━━━━━━━━━━━━\u001b[0m\u001b[37m\u001b[0m \u001b[1m42s\u001b[0m 3ms/step - accuracy: 0.7469 - loss: 0.5123 - val_accuracy: 0.7380 - val_loss: 0.5263\n",
            "Epoch 7/10\n",
            "\u001b[1m10307/10307\u001b[0m \u001b[32m━━━━━━━━━━━━━━━━━━━━\u001b[0m\u001b[37m\u001b[0m \u001b[1m39s\u001b[0m 3ms/step - accuracy: 0.7502 - loss: 0.5070 - val_accuracy: 0.7379 - val_loss: 0.5273\n",
            "Epoch 8/10\n",
            "\u001b[1m10307/10307\u001b[0m \u001b[32m━━━━━━━━━━━━━━━━━━━━\u001b[0m\u001b[37m\u001b[0m \u001b[1m41s\u001b[0m 3ms/step - accuracy: 0.7527 - loss: 0.5037 - val_accuracy: 0.7372 - val_loss: 0.5285\n",
            "Epoch 9/10\n",
            "\u001b[1m10307/10307\u001b[0m \u001b[32m━━━━━━━━━━━━━━━━━━━━\u001b[0m\u001b[37m\u001b[0m \u001b[1m28s\u001b[0m 3ms/step - accuracy: 0.7544 - loss: 0.5013 - val_accuracy: 0.7360 - val_loss: 0.5283\n",
            "Epoch 10/10\n",
            "\u001b[1m10307/10307\u001b[0m \u001b[32m━━━━━━━━━━━━━━━━━━━━\u001b[0m\u001b[37m\u001b[0m \u001b[1m29s\u001b[0m 3ms/step - accuracy: 0.7543 - loss: 0.5007 - val_accuracy: 0.7369 - val_loss: 0.5305\n",
            "\u001b[1m3221/3221\u001b[0m \u001b[32m━━━━━━━━━━━━━━━━━━━━\u001b[0m\u001b[37m\u001b[0m \u001b[1m4s\u001b[0m 1ms/step\n",
            "Accuracy: 0.7382\n",
            "Precision: 0.7220\n",
            "Recall: 0.7317\n",
            "F1-Score: 0.7268\n",
            "AUC-ROC: 0.8142\n"
          ]
        },
        {
          "output_type": "display_data",
          "data": {
            "text/plain": [
              "<Figure size 600x400 with 2 Axes>"
            ],
            "image/png": "[encoded data removed]"
          },
          "metadata": {}
        }
      ]
    },
    {
      "cell_type": "markdown",
      "source": [
        "##Penjelasan Matriks terbaik"
      ],
      "metadata": {
        "id": "jQQuA4RXI3zq"
      }
    },
    {
      "cell_type": "markdown",
      "source": [
        "Metrik yang paling menonjol di sini adalah AUC-ROC sebesar 0.8142, yang menunjukkan kemampuan model dalam membedakan antara kelas positif dan negatif secara keseluruhan, terlepas dari threshold yang digunakan. Meskipun akurasi cukup baik (73.8%), akurasi sendiri bisa menyesatkan jika dataset tidak seimbang. Precision dan recall juga seimbang (~72% dan ~73%), menunjukkan trade-off yang wajar antara false positives dan false negatives. Namun, AUC-ROC lebih unggul karena mengukur area di bawah kurva ROC yang memplot true positive rate vs false positive rate pada berbagai threshold. Artinya, meskipun kita mengubah threshold prediksi, model masih mempertahankan performa yang cukup baik secara global. Oleh karena itu, AUC-ROC menjadi metrik terbaik di sini karena memberikan gambaran menyeluruh tentang kualitas klasifikasi model."
      ],
      "metadata": {
        "id": "bkR32jT1JDcw"
      }
    }
  ]
}