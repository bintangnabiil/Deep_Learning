{
  "nbformat": 4,
  "nbformat_minor": 0,
  "metadata": {
    "colab": {
      "provenance": [],
      "authorship_tag": "ABX9TyMpQFgs8gPMYHbA6xGseVdX",
      "include_colab_link": true
    },
    "kernelspec": {
      "name": "python3",
      "display_name": "Python 3"
    },
    "language_info": {
      "name": "python"
    }
  },
  "cells": [
    {
      "cell_type": "markdown",
      "metadata": {
        "id": "view-in-github",
        "colab_type": "text"
      },
      "source": [
        "<a href=\"https://colab.research.google.com/github/bintangnabiil/Deep_Learning/blob/main/Deep_Learning_RNN_Model_Week_5.ipynb\" target=\"_parent\"><img src=\"https://colab.research.google.com/assets/colab-badge.svg\" alt=\"Open In Colab\"/></a>"
      ]
    },
    {
      "cell_type": "markdown",
      "source": [
        "#1) RNN PyTorch"
      ],
      "metadata": {
        "id": "12eCrxYNG7AI"
      }
    },
    {
      "cell_type": "markdown",
      "source": [
        "##1. Preprocessing Data\n"
      ],
      "metadata": {
        "id": "tYYwHcSXD9St"
      }
    },
    {
      "cell_type": "code",
      "execution_count": 1,
      "metadata": {
        "id": "HhFK0aPmD0P_"
      },
      "outputs": [],
      "source": [
        "import pandas as pd\n",
        "import torch\n",
        "import torch.nn as nn\n",
        "from torch.utils.data import Dataset, DataLoader\n",
        "from sklearn.model_selection import train_test_split\n",
        "from sklearn.metrics import accuracy_score\n",
        "import re\n",
        "from collections import Counter\n",
        "\n",
        "# Upload file di Colab manual: File > Upload to session storage\n",
        "df = pd.read_csv('/content/ReviewTokoBaju.csv')  # Ganti sesuai lokasi file jika perlu\n",
        "\n",
        "# Bersihkan data\n",
        "df = df.dropna(subset=[\"Review Text\", \"Recommended IND\"])\n",
        "texts = df[\"Review Text\"].astype(str).tolist()\n",
        "labels = df[\"Recommended IND\"].astype(int).tolist()\n",
        "\n",
        "# Tokenisasi sederhana\n",
        "def tokenize(text):\n",
        "    text = re.sub(r\"[^a-zA-Z\\s]\", \"\", text)\n",
        "    return text.lower().split()\n",
        "\n",
        "tokenized_texts = [tokenize(t) for t in texts]\n",
        "\n",
        "# Bangun vocab\n",
        "all_words = [word for tokens in tokenized_texts for word in tokens]\n",
        "vocab = {word: idx+2 for idx, (word, _) in enumerate(Counter(all_words).items())}\n",
        "vocab['<PAD>'] = 0\n",
        "vocab['<UNK>'] = 1\n",
        "\n",
        "# Encode dan pad\n",
        "MAX_LEN = 100\n",
        "def encode_pad(tokens):\n",
        "    encoded = [vocab.get(token, vocab['<UNK>']) for token in tokens]\n",
        "    return encoded[:MAX_LEN] + [0] * (MAX_LEN - len(encoded))\n",
        "\n",
        "X = torch.tensor([encode_pad(t) for t in tokenized_texts])\n",
        "y = torch.tensor(labels).float()\n",
        "\n",
        "# Split\n",
        "X_train, X_test, y_train, y_test = train_test_split(X, y, test_size=0.2, random_state=42)\n",
        "\n",
        "class ReviewDataset(Dataset):\n",
        "    def __init__(self, X, y):\n",
        "        self.X = X\n",
        "        self.y = y\n",
        "    def __len__(self): return len(self.X)\n",
        "    def __getitem__(self, idx): return self.X[idx], self.y[idx]\n",
        "\n",
        "train_loader = DataLoader(ReviewDataset(X_train, y_train), batch_size=64, shuffle=True)\n",
        "test_loader = DataLoader(ReviewDataset(X_test, y_test), batch_size=64)"
      ]
    },
    {
      "cell_type": "markdown",
      "source": [
        "##2. Mendefinisikan Model RNN PyTorch"
      ],
      "metadata": {
        "id": "ugvvBjQwEP2I"
      }
    },
    {
      "cell_type": "code",
      "source": [
        "class RNNClassifier(nn.Module):\n",
        "    def __init__(self, vocab_size, embedding_dim=100, hidden_dim=128):\n",
        "        super().__init__()\n",
        "        self.embedding = nn.Embedding(vocab_size, embedding_dim, padding_idx=0)\n",
        "        self.rnn = nn.GRU(embedding_dim, hidden_dim, batch_first=True)\n",
        "        self.fc = nn.Linear(hidden_dim, 1)\n",
        "        self.sigmoid = nn.Sigmoid()\n",
        "\n",
        "    def forward(self, x):\n",
        "        emb = self.embedding(x)\n",
        "        _, h = self.rnn(emb)\n",
        "        out = self.fc(h.squeeze(0))\n",
        "        return self.sigmoid(out)"
      ],
      "metadata": {
        "id": "3xsisL5OETRd"
      },
      "execution_count": 2,
      "outputs": []
    },
    {
      "cell_type": "markdown",
      "source": [
        "##3. Training Model"
      ],
      "metadata": {
        "id": "ihxIL0qHEVKM"
      }
    },
    {
      "cell_type": "code",
      "source": [
        "device = torch.device(\"cuda\" if torch.cuda.is_available() else \"cpu\")\n",
        "model = RNNClassifier(len(vocab)).to(device)\n",
        "loss_fn = nn.BCELoss()\n",
        "optimizer = torch.optim.Adam(model.parameters(), lr=0.001)\n",
        "\n",
        "# Training\n",
        "for epoch in range(5):\n",
        "    model.train()\n",
        "    total_loss = 0\n",
        "    for xb, yb in train_loader:\n",
        "        xb, yb = xb.to(device), yb.to(device)\n",
        "        preds = model(xb).squeeze()\n",
        "        loss = loss_fn(preds, yb)\n",
        "        optimizer.zero_grad()\n",
        "        loss.backward()\n",
        "        optimizer.step()\n",
        "        total_loss += loss.item()\n",
        "    print(f\"Epoch {epoch+1} Loss: {total_loss:.4f}\")"
      ],
      "metadata": {
        "colab": {
          "base_uri": "https://localhost:8080/"
        },
        "id": "kedalhO1EWHB",
        "outputId": "e21ba8a7-33e8-4ede-afd1-f3627fee078f"
      },
      "execution_count": 3,
      "outputs": [
        {
          "output_type": "stream",
          "name": "stdout",
          "text": [
            "Epoch 1 Loss: 135.7002\n",
            "Epoch 2 Loss: 104.6731\n",
            "Epoch 3 Loss: 71.1580\n",
            "Epoch 4 Loss: 56.3001\n",
            "Epoch 5 Loss: 45.9961\n"
          ]
        }
      ]
    },
    {
      "cell_type": "markdown",
      "source": [
        "##4. Evaluasi Sederhana"
      ],
      "metadata": {
        "id": "hsskYAnrFfAk"
      }
    },
    {
      "cell_type": "code",
      "source": [
        "model.eval()\n",
        "all_preds = []\n",
        "all_labels = []\n",
        "\n",
        "with torch.no_grad():\n",
        "    for xb, yb in test_loader:\n",
        "        xb = xb.to(device)\n",
        "        preds = model(xb).squeeze().cpu().numpy()\n",
        "        all_preds.extend(preds)\n",
        "        all_labels.extend(yb.numpy())\n",
        "\n",
        "# Konversi prediksi ke 0/1\n",
        "preds_bin = [1 if p > 0.5 else 0 for p in all_preds]\n",
        "accuracy = accuracy_score(all_labels, preds_bin)\n",
        "print(f\"Test Accuracy: {accuracy:.4f}\")"
      ],
      "metadata": {
        "colab": {
          "base_uri": "https://localhost:8080/"
        },
        "id": "-xPbVELZFglJ",
        "outputId": "db60b80f-583f-4f8b-b91c-46b481ac8c48"
      },
      "execution_count": 4,
      "outputs": [
        {
          "output_type": "stream",
          "name": "stdout",
          "text": [
            "Test Accuracy: 0.8794\n"
          ]
        }
      ]
    },
    {
      "cell_type": "markdown",
      "source": [
        "#2) RNN Tensorflow"
      ],
      "metadata": {
        "id": "QjcLyXBBGzj8"
      }
    },
    {
      "cell_type": "markdown",
      "source": [
        "##1. Import dan Preprocessing"
      ],
      "metadata": {
        "id": "uDHvKdeRHC8l"
      }
    },
    {
      "cell_type": "code",
      "source": [
        "import pandas as pd\n",
        "import re\n",
        "import numpy as np\n",
        "from sklearn.model_selection import train_test_split\n",
        "from tensorflow.keras.preprocessing.text import Tokenizer\n",
        "from tensorflow.keras.preprocessing.sequence import pad_sequences\n",
        "\n",
        "# Baca file yang di-upload ke session storage\n",
        "df = pd.read_csv('/content/ReviewTokoBaju.csv')\n",
        "df = df.dropna(subset=['Review Text', 'Recommended IND'])\n",
        "\n",
        "texts = df['Review Text'].astype(str).tolist()\n",
        "labels = df['Recommended IND'].astype(int).tolist()\n",
        "\n",
        "# Bersihkan teks\n",
        "def clean_text(text):\n",
        "    text = re.sub(r'[^a-zA-Z\\s]', '', text)\n",
        "    return text.lower()\n",
        "\n",
        "texts = [clean_text(t) for t in texts]\n",
        "\n",
        "# Tokenisasi dan vektorisasi\n",
        "tokenizer = Tokenizer(num_words=10000, oov_token='<OOV>')\n",
        "tokenizer.fit_on_texts(texts)\n",
        "sequences = tokenizer.texts_to_sequences(texts)\n",
        "\n",
        "# Padding\n",
        "MAX_LEN = 100\n",
        "X = pad_sequences(sequences, maxlen=MAX_LEN, padding='post')\n",
        "y = np.array(labels)\n",
        "\n",
        "# Train-test split\n",
        "X_train, X_test, y_train, y_test = train_test_split(X, y, test_size=0.2, random_state=42)"
      ],
      "metadata": {
        "id": "9UQKPEmkG5Kq"
      },
      "execution_count": 11,
      "outputs": []
    },
    {
      "cell_type": "markdown",
      "source": [
        "##2. Bangun Model RNN TensorFlow\n"
      ],
      "metadata": {
        "id": "I8ab_y1dHecg"
      }
    },
    {
      "cell_type": "code",
      "source": [
        "import tensorflow as tf\n",
        "from tensorflow.keras.models import Sequential\n",
        "from tensorflow.keras.layers import Embedding, SimpleRNN, Dense\n",
        "\n",
        "model = Sequential([\n",
        "    Embedding(input_dim=10000, output_dim=100),  # input_length dihapus karena sudah deprecated\n",
        "    SimpleRNN(128),\n",
        "    Dense(1, activation='sigmoid')\n",
        "])\n",
        "\n",
        "model.compile(loss='binary_crossentropy', optimizer='adam', metrics=['accuracy'])\n",
        "\n",
        "model.build(input_shape=(None, MAX_LEN))\n",
        "model.summary()"
      ],
      "metadata": {
        "colab": {
          "base_uri": "https://localhost:8080/",
          "height": 223
        },
        "id": "M7lnxmTPHhiq",
        "outputId": "2bf8cbbd-0f96-44d2-b3a7-8bd6aefc9e7a"
      },
      "execution_count": 15,
      "outputs": [
        {
          "output_type": "display_data",
          "data": {
            "text/plain": [
              "\u001b[1mModel: \"sequential_4\"\u001b[0m\n"
            ],
            "text/html": [
              "<pre style=\"white-space:pre;overflow-x:auto;line-height:normal;font-family:Menlo,'DejaVu Sans Mono',consolas,'Courier New',monospace\"><span style=\"font-weight: bold\">Model: \"sequential_4\"</span>\n",
              "</pre>\n"
            ]
          },
          "metadata": {}
        },
        {
          "output_type": "display_data",
          "data": {
            "text/plain": [
              "┏━━━━━━━━━━━━━━━━━━━━━━━━━━━━━━━━━┳━━━━━━━━━━━━━━━━━━━━━━━━┳━━━━━━━━━━━━━━━┓\n",
              "┃\u001b[1m \u001b[0m\u001b[1mLayer (type)                   \u001b[0m\u001b[1m \u001b[0m┃\u001b[1m \u001b[0m\u001b[1mOutput Shape          \u001b[0m\u001b[1m \u001b[0m┃\u001b[1m \u001b[0m\u001b[1m      Param #\u001b[0m\u001b[1m \u001b[0m┃\n",
              "┡━━━━━━━━━━━━━━━━━━━━━━━━━━━━━━━━━╇━━━━━━━━━━━━━━━━━━━━━━━━╇━━━━━━━━━━━━━━━┩\n",
              "│ embedding_4 (\u001b[38;5;33mEmbedding\u001b[0m)         │ (\u001b[38;5;45mNone\u001b[0m, \u001b[38;5;34m100\u001b[0m, \u001b[38;5;34m100\u001b[0m)       │     \u001b[38;5;34m1,000,000\u001b[0m │\n",
              "├─────────────────────────────────┼────────────────────────┼───────────────┤\n",
              "│ simple_rnn_4 (\u001b[38;5;33mSimpleRNN\u001b[0m)        │ (\u001b[38;5;45mNone\u001b[0m, \u001b[38;5;34m128\u001b[0m)            │        \u001b[38;5;34m29,312\u001b[0m │\n",
              "├─────────────────────────────────┼────────────────────────┼───────────────┤\n",
              "│ dense_4 (\u001b[38;5;33mDense\u001b[0m)                 │ (\u001b[38;5;45mNone\u001b[0m, \u001b[38;5;34m1\u001b[0m)              │           \u001b[38;5;34m129\u001b[0m │\n",
              "└─────────────────────────────────┴────────────────────────┴───────────────┘\n"
            ],
            "text/html": [
              "<pre style=\"white-space:pre;overflow-x:auto;line-height:normal;font-family:Menlo,'DejaVu Sans Mono',consolas,'Courier New',monospace\">┏━━━━━━━━━━━━━━━━━━━━━━━━━━━━━━━━━┳━━━━━━━━━━━━━━━━━━━━━━━━┳━━━━━━━━━━━━━━━┓\n",
              "┃<span style=\"font-weight: bold\"> Layer (type)                    </span>┃<span style=\"font-weight: bold\"> Output Shape           </span>┃<span style=\"font-weight: bold\">       Param # </span>┃\n",
              "┡━━━━━━━━━━━━━━━━━━━━━━━━━━━━━━━━━╇━━━━━━━━━━━━━━━━━━━━━━━━╇━━━━━━━━━━━━━━━┩\n",
              "│ embedding_4 (<span style=\"color: #0087ff; text-decoration-color: #0087ff\">Embedding</span>)         │ (<span style=\"color: #00d7ff; text-decoration-color: #00d7ff\">None</span>, <span style=\"color: #00af00; text-decoration-color: #00af00\">100</span>, <span style=\"color: #00af00; text-decoration-color: #00af00\">100</span>)       │     <span style=\"color: #00af00; text-decoration-color: #00af00\">1,000,000</span> │\n",
              "├─────────────────────────────────┼────────────────────────┼───────────────┤\n",
              "│ simple_rnn_4 (<span style=\"color: #0087ff; text-decoration-color: #0087ff\">SimpleRNN</span>)        │ (<span style=\"color: #00d7ff; text-decoration-color: #00d7ff\">None</span>, <span style=\"color: #00af00; text-decoration-color: #00af00\">128</span>)            │        <span style=\"color: #00af00; text-decoration-color: #00af00\">29,312</span> │\n",
              "├─────────────────────────────────┼────────────────────────┼───────────────┤\n",
              "│ dense_4 (<span style=\"color: #0087ff; text-decoration-color: #0087ff\">Dense</span>)                 │ (<span style=\"color: #00d7ff; text-decoration-color: #00d7ff\">None</span>, <span style=\"color: #00af00; text-decoration-color: #00af00\">1</span>)              │           <span style=\"color: #00af00; text-decoration-color: #00af00\">129</span> │\n",
              "└─────────────────────────────────┴────────────────────────┴───────────────┘\n",
              "</pre>\n"
            ]
          },
          "metadata": {}
        },
        {
          "output_type": "display_data",
          "data": {
            "text/plain": [
              "\u001b[1m Total params: \u001b[0m\u001b[38;5;34m1,029,441\u001b[0m (3.93 MB)\n"
            ],
            "text/html": [
              "<pre style=\"white-space:pre;overflow-x:auto;line-height:normal;font-family:Menlo,'DejaVu Sans Mono',consolas,'Courier New',monospace\"><span style=\"font-weight: bold\"> Total params: </span><span style=\"color: #00af00; text-decoration-color: #00af00\">1,029,441</span> (3.93 MB)\n",
              "</pre>\n"
            ]
          },
          "metadata": {}
        },
        {
          "output_type": "display_data",
          "data": {
            "text/plain": [
              "\u001b[1m Trainable params: \u001b[0m\u001b[38;5;34m1,029,441\u001b[0m (3.93 MB)\n"
            ],
            "text/html": [
              "<pre style=\"white-space:pre;overflow-x:auto;line-height:normal;font-family:Menlo,'DejaVu Sans Mono',consolas,'Courier New',monospace\"><span style=\"font-weight: bold\"> Trainable params: </span><span style=\"color: #00af00; text-decoration-color: #00af00\">1,029,441</span> (3.93 MB)\n",
              "</pre>\n"
            ]
          },
          "metadata": {}
        },
        {
          "output_type": "display_data",
          "data": {
            "text/plain": [
              "\u001b[1m Non-trainable params: \u001b[0m\u001b[38;5;34m0\u001b[0m (0.00 B)\n"
            ],
            "text/html": [
              "<pre style=\"white-space:pre;overflow-x:auto;line-height:normal;font-family:Menlo,'DejaVu Sans Mono',consolas,'Courier New',monospace\"><span style=\"font-weight: bold\"> Non-trainable params: </span><span style=\"color: #00af00; text-decoration-color: #00af00\">0</span> (0.00 B)\n",
              "</pre>\n"
            ]
          },
          "metadata": {}
        }
      ]
    },
    {
      "cell_type": "markdown",
      "source": [
        "##3. Training Model"
      ],
      "metadata": {
        "id": "5G8UBeHoHmrx"
      }
    },
    {
      "cell_type": "code",
      "source": [
        "history = model.fit(X_train, y_train, epochs=5, batch_size=64, validation_split=0.1)"
      ],
      "metadata": {
        "colab": {
          "base_uri": "https://localhost:8080/"
        },
        "id": "BGX-jySFHoOF",
        "outputId": "0b04a8ce-7ed2-4247-a65e-5ee6f1ff1539"
      },
      "execution_count": 16,
      "outputs": [
        {
          "output_type": "stream",
          "name": "stdout",
          "text": [
            "Epoch 1/5\n",
            "\u001b[1m255/255\u001b[0m \u001b[32m━━━━━━━━━━━━━━━━━━━━\u001b[0m\u001b[37m\u001b[0m \u001b[1m22s\u001b[0m 77ms/step - accuracy: 0.8076 - loss: 0.4811 - val_accuracy: 0.7975 - val_loss: 0.5114\n",
            "Epoch 2/5\n",
            "\u001b[1m255/255\u001b[0m \u001b[32m━━━━━━━━━━━━━━━━━━━━\u001b[0m\u001b[37m\u001b[0m \u001b[1m18s\u001b[0m 66ms/step - accuracy: 0.8183 - loss: 0.4750 - val_accuracy: 0.7975 - val_loss: 0.5112\n",
            "Epoch 3/5\n",
            "\u001b[1m255/255\u001b[0m \u001b[32m━━━━━━━━━━━━━━━━━━━━\u001b[0m\u001b[37m\u001b[0m \u001b[1m22s\u001b[0m 71ms/step - accuracy: 0.8184 - loss: 0.4744 - val_accuracy: 0.7958 - val_loss: 0.5067\n",
            "Epoch 4/5\n",
            "\u001b[1m255/255\u001b[0m \u001b[32m━━━━━━━━━━━━━━━━━━━━\u001b[0m\u001b[37m\u001b[0m \u001b[1m19s\u001b[0m 67ms/step - accuracy: 0.8226 - loss: 0.4698 - val_accuracy: 0.7919 - val_loss: 0.5154\n",
            "Epoch 5/5\n",
            "\u001b[1m255/255\u001b[0m \u001b[32m━━━━━━━━━━━━━━━━━━━━\u001b[0m\u001b[37m\u001b[0m \u001b[1m21s\u001b[0m 69ms/step - accuracy: 0.8280 - loss: 0.4495 - val_accuracy: 0.7908 - val_loss: 0.5305\n"
          ]
        }
      ]
    },
    {
      "cell_type": "markdown",
      "source": [
        "##4. Evaluasi Akurasi di Test Set"
      ],
      "metadata": {
        "id": "r_RetaiwHq8M"
      }
    },
    {
      "cell_type": "code",
      "source": [
        "loss, acc = model.evaluate(X_test, y_test)\n",
        "print(f'Test Accuracy: {acc:.4f}')"
      ],
      "metadata": {
        "colab": {
          "base_uri": "https://localhost:8080/"
        },
        "id": "CFkswGRWHsnD",
        "outputId": "e8c73c2b-8d3d-46ac-a909-a5624f6d5fd1"
      },
      "execution_count": 17,
      "outputs": [
        {
          "output_type": "stream",
          "name": "stdout",
          "text": [
            "\u001b[1m142/142\u001b[0m \u001b[32m━━━━━━━━━━━━━━━━━━━━\u001b[0m\u001b[37m\u001b[0m \u001b[1m2s\u001b[0m 16ms/step - accuracy: 0.8064 - loss: 0.5013\n",
            "Test Accuracy: 0.8108\n"
          ]
        }
      ]
    },
    {
      "cell_type": "markdown",
      "source": [
        "#Evaluasi & ROC"
      ],
      "metadata": {
        "id": "O6-O-vOsJkmR"
      }
    },
    {
      "cell_type": "code",
      "source": [
        "from sklearn.metrics import accuracy_score, precision_score, recall_score, f1_score, roc_auc_score, roc_curve\n",
        "import matplotlib.pyplot as plt\n",
        "\n",
        "# 1. Prediksi\n",
        "y_pred_proba = model.predict(X_test)\n",
        "y_pred = (y_pred_proba > 0.5).astype(\"int32\")\n",
        "\n",
        "# 2. Hitung metriks evaluasi\n",
        "acc = accuracy_score(y_test, y_pred)\n",
        "prec = precision_score(y_test, y_pred)\n",
        "rec = recall_score(y_test, y_pred)\n",
        "f1 = f1_score(y_test, y_pred)\n",
        "auc = roc_auc_score(y_test, y_pred_proba)\n",
        "\n",
        "print(f\"Akurasi  : {acc:.4f}\")\n",
        "print(f\"Presisi  : {prec:.4f}\")\n",
        "print(f\"Recall   : {rec:.4f}\")\n",
        "print(f\"F1-Score : {f1:.4f}\")\n",
        "print(f\"AUC      : {auc:.4f}\")"
      ],
      "metadata": {
        "colab": {
          "base_uri": "https://localhost:8080/"
        },
        "id": "D57tlA_OJr53",
        "outputId": "1d0f7ced-c085-4b1f-cd49-4f751481c742"
      },
      "execution_count": 18,
      "outputs": [
        {
          "output_type": "stream",
          "name": "stdout",
          "text": [
            "\u001b[1m142/142\u001b[0m \u001b[32m━━━━━━━━━━━━━━━━━━━━\u001b[0m\u001b[37m\u001b[0m \u001b[1m5s\u001b[0m 37ms/step\n",
            "Akurasi  : 0.8108\n",
            "Presisi  : 0.8205\n",
            "Recall   : 0.9849\n",
            "F1-Score : 0.8952\n",
            "AUC      : 0.4981\n"
          ]
        }
      ]
    },
    {
      "cell_type": "markdown",
      "source": [
        "##Plot ROC Curve"
      ],
      "metadata": {
        "id": "tdTUYKtUKF21"
      }
    },
    {
      "cell_type": "code",
      "source": [
        "fpr, tpr, _ = roc_curve(y_test, y_pred_proba)\n",
        "\n",
        "plt.figure(figsize=(6,4))\n",
        "plt.plot(fpr, tpr, label=f\"AUC = {auc:.2f}\")\n",
        "plt.plot([0, 1], [0, 1], 'k--')\n",
        "plt.xlabel(\"False Positive Rate\")\n",
        "plt.ylabel(\"True Positive Rate\")\n",
        "plt.title(\"ROC Curve\")\n",
        "plt.legend()\n",
        "plt.grid(True)\n",
        "plt.show()"
      ],
      "metadata": {
        "colab": {
          "base_uri": "https://localhost:8080/",
          "height": 410
        },
        "id": "Y1Cf-fHPKKvI",
        "outputId": "0ed5c890-61f3-4852-cc66-76aac38ac043"
      },
      "execution_count": 19,
      "outputs": [
        {
          "output_type": "display_data",
          "data": {
            "text/plain": [
              "<Figure size 600x400 with 1 Axes>"
            ],
            "image/png": "[encoded data removed]"
          },
          "metadata": {}
        }
      ]
    },
    {
      "cell_type": "markdown",
      "source": [
        "##Plot Akurasi dan Loss dari History"
      ],
      "metadata": {
        "id": "8Q_TjAa3KuTf"
      }
    },
    {
      "cell_type": "code",
      "source": [
        "plt.figure(figsize=(10,4))\n",
        "plt.subplot(1,2,1)\n",
        "plt.plot(history.history['accuracy'], label='Train Acc')\n",
        "plt.plot(history.history['val_accuracy'], label='Val Acc')\n",
        "plt.title(\"Akurasi per Epoch\")\n",
        "plt.xlabel(\"Epoch\")\n",
        "plt.ylabel(\"Akurasi\")\n",
        "plt.legend()\n",
        "\n",
        "# Loss\n",
        "plt.subplot(1,2,2)\n",
        "plt.plot(history.history['loss'], label='Train Loss')\n",
        "plt.plot(history.history['val_loss'], label='Val Loss')\n",
        "plt.title(\"Loss per Epoch\")\n",
        "plt.xlabel(\"Epoch\")\n",
        "plt.ylabel(\"Loss\")\n",
        "plt.legend()\n",
        "\n",
        "plt.tight_layout()\n",
        "plt.show()"
      ],
      "metadata": {
        "colab": {
          "base_uri": "https://localhost:8080/",
          "height": 407
        },
        "id": "2L5k_Ps1Kv92",
        "outputId": "059ec860-8778-4e69-fe2c-b79a37d7479f"
      },
      "execution_count": 20,
      "outputs": [
        {
          "output_type": "display_data",
          "data": {
            "text/plain": [
              "<Figure size 1000x400 with 2 Axes>"
            ],
            "image/png": "[encoded data removed]"
          },
          "metadata": {}
        }
      ]
    },
    {
      "cell_type": "markdown",
      "source": [
        "#Penjelasan Persamaan Matamtika\n",
        "##1. Recurrent Neural Network (RNN)\n",
        "RNN memproses urutan data (seperti kalimat) dengan mengulang operasi matematis di setiap langkah waktu (timestep). Di SimpleRNN, yang dihitung:\n",
        "<br><br>\n",
        "$$\n",
        "h_t = tanh(W_{xh}x_t + W_{hh}h_{t-1} + b_h)\n",
        "$$<br><br>\n",
        "\n",
        "Keterangan:\n",
        "- $x_t$ = input pada waktu ke-$t$(misalnya, kata ke-1, ke-2, dst.)\n",
        "- $h_t$ = hidden state baru pada waktu ke-$t$\n",
        "- $h_{t-1}$ = hidden state sebelumnya\n",
        "- $W_{xh}$ = bobot dari input ke hidden\n",
        "- $W_{hh}$ = bobot dari hidden ke hidden\n",
        "- $b_h$ = bias\n",
        "- $tanh$ = fungsi aktivasi untuk membuat output tetap dalam rentang [-1,1]<br><br>\n",
        "\n",
        "##2. Dense Layer / Output Layer\n",
        "Setelah semua input diproses oleh RNN, hidden state terakhir $h_T$ dikirim ke lapisan output:\n",
        "<br><br>\n",
        "$$\n",
        "\\hat{y} = \\sigma(W_oh_t + b_o)\n",
        "$$<br><br>\n",
        "\n",
        "Keterangan:\n",
        "- $\\hat{y}$ = output prediksi (nilai antara 0–1)\n",
        "- $W_o$ = bobot output\n",
        "- $b_o$ = bias output\n",
        "- $\\sigma$ = fungsi sigmoid, digunakan untuk klasifikasi biner:\n",
        "\n",
        "$$\n",
        "\\sigma(z) = \\frac{1}{1+e^{-z}}\n",
        "$$<br><br>\n",
        "\n",
        "Hasil dari sigmoid digunakan untuk menentukan apakah prediksi adalah kelas 0 atau 1.<br><br>\n",
        "\n",
        "##3. Fungsi Loss (Binary Crossentropy)\n",
        "Karena ini klasifikasi biner, kita pakai fungsi loss:\n",
        "<br><br>\n",
        "$$\n",
        "Loss = -[ylog(\\hat{y}) + (1-y) log(1-\\hat{y})]\n",
        "$$<br><br>\n",
        "\n",
        "Keterangan:\n",
        "- $y$ = label asli (0 atau 1)\n",
        "- $\\hat{y}$ = prediksi dari model\n",
        "- Jika prediksi dekat dengan label, loss-nya kecil.\n",
        "- Kalau prediksi salah jauh dari label, loss-nya besar.<br><br>\n",
        "\n",
        "##4. Optimisasi dengan Gradient Descent (Adam)\n",
        "Selama training, model memperbarui bobot $W$ menggunakan rumus dari gradient descent, misalnya:\n",
        "<br><br>\n",
        "$$\n",
        "W \\leftarrow W - η ⋅ ∇_WLoss\n",
        "$$<br><br>\n",
        "\n",
        "Keterangan:\n",
        "- $η$ = learning rate\n",
        "- $∇_W$ = turunan (gradien) dari loss terhadap bobot $W$\n",
        "\n",
        "Kita pakai optimizer Adam, yang menggabungkan momentum dan RMSProp untuk update bobot lebih cepat dan stabil.<br><br>\n",
        "\n",
        "## 5. Akurasi\n",
        "Akurasi cocok kalau datanya seimbang (jumlah kelas 0 dan 1 relatif sama).\n",
        "<br><br>\n",
        "$$\n",
        "Accuracy = \\frac{TP + TN}{TP + TN + FP + FN}\n",
        "$$<br><br>\n",
        "\n",
        "Di mana:\n",
        "- $TP (True Positive)$ = Kasus positif yang diprediksi positif\n",
        "- $TF (True Negative)$ = Kasus negatif yang diprediksi negatif\n",
        "- $FP (False Positive)$ = Kasus negatif yang salah diprediksi sebagai positif\n",
        "- $FF (False Negative)$ = Kasus positif yang salah diprediksi sebagai negatif<br><br>\n",
        "\n",
        "##6. Presisi\n",
        "$$\n",
        "Presisi = \\frac{TP}{TP + FP}\n",
        "$$<br><br>\n",
        "\n",
        "Keterangan:\n",
        " - Mengukur seberapa banyak dari yang model prediksi positif, benar-benar positif.\n",
        " - Tinggi = sedikit yang salah prediksi sebagai positif.\n",
        "\n",
        "Cocok saat kamu ingin menghindari false positive, misalnya dalam deteksi spam.<br><br>\n",
        "\n",
        "##7. Recall (Sensitivity / TPR)\n",
        "$$\n",
        "Recall = \\frac{TP}{TP + FN}\n",
        "$$<br><br>\n",
        "\n",
        "Keterangan:\n",
        "- Mengukur seberapa banyak dari yang sebenarnya positif, berhasil dideteksi oleh model.\n",
        "- Tinggi = model jarang melewatkan yang seharusnya positif.\n",
        "\n",
        "Cocok saat kamu ingin menghindari false negative, misalnya pada deteksi penyakit.<br><br>\n",
        "\n",
        "##8. F1-Score\n",
        "$$\n",
        "F1-Score = 2 \\times \\frac{Precision×Recall}{Precision+Recall}\n",
        "$$<br><br>\n",
        "\n",
        "Keterangan:\n",
        "- F1 adalah rata-rata harmonis antara presisi dan recall.\n",
        "- Cocok jika kamu ingin seimbang antara menghindari FP dan FN.\n",
        "\n",
        "Digunakan saat kamu punya data imbalance dan ingin metrik yang fair.<br><br>\n",
        "\n",
        "##9. AUC - Area Under Curve (ROC)\n",
        "ROC Curve adalah grafik antara:\n",
        "- True Positive Rate (TPR) = Recall\n",
        "- False Positive Rate (FPR):\n",
        "<br><br>\n",
        "$$\n",
        "FPR = \\frac{FP}{FP + TN}\n",
        "$$\n",
        "<br><br>\n",
        "Semakin tinggi AUC, semakin baik model membedakan antara kelas 1 dan kelas 0.\n",
        "Nilai AUC:\n",
        "- 0.5 = tebak-tebakan\n",
        "- 0.7 - 0.8 = oke\n",
        "- 0.8 - 0.9 = bagus\n",
        "- 0.9 = sangat bagus"
      ],
      "metadata": {
        "id": "viT2_ry0LMw5"
      }
    }
  ]
}