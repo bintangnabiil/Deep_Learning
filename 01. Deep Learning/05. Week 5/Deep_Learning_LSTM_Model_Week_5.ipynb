{
  "nbformat": 4,
  "nbformat_minor": 0,
  "metadata": {
    "colab": {
      "provenance": [],
      "mount_file_id": "1qtl2kM-TZ0tjPt-zA9DP4LE8N7bGjGiy",
      "authorship_tag": "ABX9TyPJC3xOgcUxU4UvjpPQzaRM",
      "include_colab_link": true
    },
    "kernelspec": {
      "name": "python3",
      "display_name": "Python 3"
    },
    "language_info": {
      "name": "python"
    }
  },
  "cells": [
    {
      "cell_type": "markdown",
      "metadata": {
        "id": "view-in-github",
        "colab_type": "text"
      },
      "source": [
        "<a href=\"https://colab.research.google.com/github/bintangnabiil/Deep_Learning/blob/main/Deep_Learning_LSTM_Model_Week_5.ipynb\" target=\"_parent\"><img src=\"https://colab.research.google.com/assets/colab-badge.svg\" alt=\"Open In Colab\"/></a>"
      ]
    },
    {
      "cell_type": "markdown",
      "source": [
        "#1) LSTM Model Tensorflow"
      ],
      "metadata": {
        "id": "HUJOSQSFTLWg"
      }
    },
    {
      "cell_type": "markdown",
      "source": [
        "##1. Import dan Load Data\n"
      ],
      "metadata": {
        "id": "ROokyIoWTTtf"
      }
    },
    {
      "cell_type": "code",
      "source": [
        "import pandas as pd\n",
        "import numpy as np\n",
        "import matplotlib.pyplot as plt\n",
        "import seaborn as sns\n",
        "from sklearn.model_selection import train_test_split\n",
        "from sklearn.metrics import classification_report, confusion_matrix, roc_auc_score, roc_curve, accuracy_score\n",
        "\n",
        "import tensorflow as tf\n",
        "from tensorflow.keras.preprocessing.text import Tokenizer\n",
        "from tensorflow.keras.preprocessing.sequence import pad_sequences\n",
        "from tensorflow.keras.models import Sequential\n",
        "from tensorflow.keras.layers import Embedding, LSTM, Dense, Dropout\n",
        "from tensorflow.keras.callbacks import EarlyStopping\n",
        "\n",
        "df = pd.read_csv('/content/ReviewTokoBaju.csv')"
      ],
      "metadata": {
        "id": "LYrfFs3gTVyg"
      },
      "execution_count": 51,
      "outputs": []
    },
    {
      "cell_type": "markdown",
      "source": [
        "##2. Clean Data"
      ],
      "metadata": {
        "id": "k1cpfqHBUXXk"
      }
    },
    {
      "cell_type": "code",
      "source": [
        "df = df[['Review Text', 'Recommended IND']].dropna()\n",
        "\n",
        "X = df['Review Text'].values\n",
        "y = df['Recommended IND'].values"
      ],
      "metadata": {
        "id": "bUrw19e9UZ-Z"
      },
      "execution_count": 52,
      "outputs": []
    },
    {
      "cell_type": "markdown",
      "source": [
        "##3. Tokenization dan Padding"
      ],
      "metadata": {
        "id": "iSpzwrmXUbKm"
      }
    },
    {
      "cell_type": "code",
      "source": [
        "vocab_size = 10000\n",
        "max_length = 200\n",
        "tokenizer = Tokenizer(num_words=vocab_size, oov_token=\"<OOV>\")\n",
        "tokenizer.fit_on_texts(X)\n",
        "sequences = tokenizer.texts_to_sequences(X)\n",
        "padded = pad_sequences(sequences, maxlen=max_length, padding='post', truncating='post')"
      ],
      "metadata": {
        "id": "LXecfHVwUfc6"
      },
      "execution_count": 53,
      "outputs": []
    },
    {
      "cell_type": "markdown",
      "source": [
        "##4. Split Data"
      ],
      "metadata": {
        "id": "S8PyVIsQUhxr"
      }
    },
    {
      "cell_type": "code",
      "source": [
        "X_train, X_test, y_train, y_test = train_test_split(padded, y, test_size=0.2, random_state=42)\n"
      ],
      "metadata": {
        "id": "6436qRB4Uj0S"
      },
      "execution_count": 54,
      "outputs": []
    },
    {
      "cell_type": "markdown",
      "source": [
        "##5. Define Model"
      ],
      "metadata": {
        "id": "JgXE89yPUk8d"
      }
    },
    {
      "cell_type": "code",
      "source": [
        "model_tf = Sequential([\n",
        "    Embedding(vocab_size, 64, input_length=max_length),\n",
        "    LSTM(64),\n",
        "    Dropout(0.3),\n",
        "    Dense(32, activation='relu'),\n",
        "    Dropout(0.2),\n",
        "    Dense(1, activation='sigmoid')\n",
        "])\n",
        "model_tf.compile(loss='binary_crossentropy', optimizer='adam', metrics=['accuracy'])\n",
        "model_tf.build(input_shape=(None, max_length))\n",
        "model_tf.summary()"
      ],
      "metadata": {
        "colab": {
          "base_uri": "https://localhost:8080/",
          "height": 373
        },
        "id": "lBgb7z3SUmbN",
        "outputId": "804b83b3-735a-49ff-a0fd-97b1eb369ff9"
      },
      "execution_count": 55,
      "outputs": [
        {
          "output_type": "stream",
          "name": "stderr",
          "text": [
            "/usr/local/lib/python3.11/dist-packages/keras/src/layers/core/embedding.py:90: UserWarning: Argument `input_length` is deprecated. Just remove it.\n",
            "  warnings.warn(\n"
          ]
        },
        {
          "output_type": "display_data",
          "data": {
            "text/plain": [
              "\u001b[1mModel: \"sequential_4\"\u001b[0m\n"
            ],
            "text/html": [
              "<pre style=\"white-space:pre;overflow-x:auto;line-height:normal;font-family:Menlo,'DejaVu Sans Mono',consolas,'Courier New',monospace\"><span style=\"font-weight: bold\">Model: \"sequential_4\"</span>\n",
              "</pre>\n"
            ]
          },
          "metadata": {}
        },
        {
          "output_type": "display_data",
          "data": {
            "text/plain": [
              "┏━━━━━━━━━━━━━━━━━━━━━━━━━━━━━━━━━┳━━━━━━━━━━━━━━━━━━━━━━━━┳━━━━━━━━━━━━━━━┓\n",
              "┃\u001b[1m \u001b[0m\u001b[1mLayer (type)                   \u001b[0m\u001b[1m \u001b[0m┃\u001b[1m \u001b[0m\u001b[1mOutput Shape          \u001b[0m\u001b[1m \u001b[0m┃\u001b[1m \u001b[0m\u001b[1m      Param #\u001b[0m\u001b[1m \u001b[0m┃\n",
              "┡━━━━━━━━━━━━━━━━━━━━━━━━━━━━━━━━━╇━━━━━━━━━━━━━━━━━━━━━━━━╇━━━━━━━━━━━━━━━┩\n",
              "│ embedding_4 (\u001b[38;5;33mEmbedding\u001b[0m)         │ (\u001b[38;5;45mNone\u001b[0m, \u001b[38;5;34m200\u001b[0m, \u001b[38;5;34m64\u001b[0m)        │       \u001b[38;5;34m640,000\u001b[0m │\n",
              "├─────────────────────────────────┼────────────────────────┼───────────────┤\n",
              "│ lstm_4 (\u001b[38;5;33mLSTM\u001b[0m)                   │ (\u001b[38;5;45mNone\u001b[0m, \u001b[38;5;34m64\u001b[0m)             │        \u001b[38;5;34m33,024\u001b[0m │\n",
              "├─────────────────────────────────┼────────────────────────┼───────────────┤\n",
              "│ dropout_8 (\u001b[38;5;33mDropout\u001b[0m)             │ (\u001b[38;5;45mNone\u001b[0m, \u001b[38;5;34m64\u001b[0m)             │             \u001b[38;5;34m0\u001b[0m │\n",
              "├─────────────────────────────────┼────────────────────────┼───────────────┤\n",
              "│ dense_8 (\u001b[38;5;33mDense\u001b[0m)                 │ (\u001b[38;5;45mNone\u001b[0m, \u001b[38;5;34m32\u001b[0m)             │         \u001b[38;5;34m2,080\u001b[0m │\n",
              "├─────────────────────────────────┼────────────────────────┼───────────────┤\n",
              "│ dropout_9 (\u001b[38;5;33mDropout\u001b[0m)             │ (\u001b[38;5;45mNone\u001b[0m, \u001b[38;5;34m32\u001b[0m)             │             \u001b[38;5;34m0\u001b[0m │\n",
              "├─────────────────────────────────┼────────────────────────┼───────────────┤\n",
              "│ dense_9 (\u001b[38;5;33mDense\u001b[0m)                 │ (\u001b[38;5;45mNone\u001b[0m, \u001b[38;5;34m1\u001b[0m)              │            \u001b[38;5;34m33\u001b[0m │\n",
              "└─────────────────────────────────┴────────────────────────┴───────────────┘\n"
            ],
            "text/html": [
              "<pre style=\"white-space:pre;overflow-x:auto;line-height:normal;font-family:Menlo,'DejaVu Sans Mono',consolas,'Courier New',monospace\">┏━━━━━━━━━━━━━━━━━━━━━━━━━━━━━━━━━┳━━━━━━━━━━━━━━━━━━━━━━━━┳━━━━━━━━━━━━━━━┓\n",
              "┃<span style=\"font-weight: bold\"> Layer (type)                    </span>┃<span style=\"font-weight: bold\"> Output Shape           </span>┃<span style=\"font-weight: bold\">       Param # </span>┃\n",
              "┡━━━━━━━━━━━━━━━━━━━━━━━━━━━━━━━━━╇━━━━━━━━━━━━━━━━━━━━━━━━╇━━━━━━━━━━━━━━━┩\n",
              "│ embedding_4 (<span style=\"color: #0087ff; text-decoration-color: #0087ff\">Embedding</span>)         │ (<span style=\"color: #00d7ff; text-decoration-color: #00d7ff\">None</span>, <span style=\"color: #00af00; text-decoration-color: #00af00\">200</span>, <span style=\"color: #00af00; text-decoration-color: #00af00\">64</span>)        │       <span style=\"color: #00af00; text-decoration-color: #00af00\">640,000</span> │\n",
              "├─────────────────────────────────┼────────────────────────┼───────────────┤\n",
              "│ lstm_4 (<span style=\"color: #0087ff; text-decoration-color: #0087ff\">LSTM</span>)                   │ (<span style=\"color: #00d7ff; text-decoration-color: #00d7ff\">None</span>, <span style=\"color: #00af00; text-decoration-color: #00af00\">64</span>)             │        <span style=\"color: #00af00; text-decoration-color: #00af00\">33,024</span> │\n",
              "├─────────────────────────────────┼────────────────────────┼───────────────┤\n",
              "│ dropout_8 (<span style=\"color: #0087ff; text-decoration-color: #0087ff\">Dropout</span>)             │ (<span style=\"color: #00d7ff; text-decoration-color: #00d7ff\">None</span>, <span style=\"color: #00af00; text-decoration-color: #00af00\">64</span>)             │             <span style=\"color: #00af00; text-decoration-color: #00af00\">0</span> │\n",
              "├─────────────────────────────────┼────────────────────────┼───────────────┤\n",
              "│ dense_8 (<span style=\"color: #0087ff; text-decoration-color: #0087ff\">Dense</span>)                 │ (<span style=\"color: #00d7ff; text-decoration-color: #00d7ff\">None</span>, <span style=\"color: #00af00; text-decoration-color: #00af00\">32</span>)             │         <span style=\"color: #00af00; text-decoration-color: #00af00\">2,080</span> │\n",
              "├─────────────────────────────────┼────────────────────────┼───────────────┤\n",
              "│ dropout_9 (<span style=\"color: #0087ff; text-decoration-color: #0087ff\">Dropout</span>)             │ (<span style=\"color: #00d7ff; text-decoration-color: #00d7ff\">None</span>, <span style=\"color: #00af00; text-decoration-color: #00af00\">32</span>)             │             <span style=\"color: #00af00; text-decoration-color: #00af00\">0</span> │\n",
              "├─────────────────────────────────┼────────────────────────┼───────────────┤\n",
              "│ dense_9 (<span style=\"color: #0087ff; text-decoration-color: #0087ff\">Dense</span>)                 │ (<span style=\"color: #00d7ff; text-decoration-color: #00d7ff\">None</span>, <span style=\"color: #00af00; text-decoration-color: #00af00\">1</span>)              │            <span style=\"color: #00af00; text-decoration-color: #00af00\">33</span> │\n",
              "└─────────────────────────────────┴────────────────────────┴───────────────┘\n",
              "</pre>\n"
            ]
          },
          "metadata": {}
        },
        {
          "output_type": "display_data",
          "data": {
            "text/plain": [
              "\u001b[1m Total params: \u001b[0m\u001b[38;5;34m675,137\u001b[0m (2.58 MB)\n"
            ],
            "text/html": [
              "<pre style=\"white-space:pre;overflow-x:auto;line-height:normal;font-family:Menlo,'DejaVu Sans Mono',consolas,'Courier New',monospace\"><span style=\"font-weight: bold\"> Total params: </span><span style=\"color: #00af00; text-decoration-color: #00af00\">675,137</span> (2.58 MB)\n",
              "</pre>\n"
            ]
          },
          "metadata": {}
        },
        {
          "output_type": "display_data",
          "data": {
            "text/plain": [
              "\u001b[1m Trainable params: \u001b[0m\u001b[38;5;34m675,137\u001b[0m (2.58 MB)\n"
            ],
            "text/html": [
              "<pre style=\"white-space:pre;overflow-x:auto;line-height:normal;font-family:Menlo,'DejaVu Sans Mono',consolas,'Courier New',monospace\"><span style=\"font-weight: bold\"> Trainable params: </span><span style=\"color: #00af00; text-decoration-color: #00af00\">675,137</span> (2.58 MB)\n",
              "</pre>\n"
            ]
          },
          "metadata": {}
        },
        {
          "output_type": "display_data",
          "data": {
            "text/plain": [
              "\u001b[1m Non-trainable params: \u001b[0m\u001b[38;5;34m0\u001b[0m (0.00 B)\n"
            ],
            "text/html": [
              "<pre style=\"white-space:pre;overflow-x:auto;line-height:normal;font-family:Menlo,'DejaVu Sans Mono',consolas,'Courier New',monospace\"><span style=\"font-weight: bold\"> Non-trainable params: </span><span style=\"color: #00af00; text-decoration-color: #00af00\">0</span> (0.00 B)\n",
              "</pre>\n"
            ]
          },
          "metadata": {}
        }
      ]
    },
    {
      "cell_type": "markdown",
      "source": [
        "##6. Training"
      ],
      "metadata": {
        "id": "zykpF_U_UoE0"
      }
    },
    {
      "cell_type": "code",
      "source": [
        "early_stop = EarlyStopping(monitor='val_loss', patience=3)\n",
        "history = model_tf.fit(X_train, y_train, validation_split=0.2, epochs=10, batch_size=128, callbacks=[early_stop])\n",
        "\n"
      ],
      "metadata": {
        "colab": {
          "base_uri": "https://localhost:8080/"
        },
        "id": "aRi6awb0Uq3Y",
        "outputId": "ea68e3a4-a8cc-46b4-9b29-6781bdb2f1d3"
      },
      "execution_count": 56,
      "outputs": [
        {
          "output_type": "stream",
          "name": "stdout",
          "text": [
            "Epoch 1/10\n",
            "\u001b[1m114/114\u001b[0m \u001b[32m━━━━━━━━━━━━━━━━━━━━\u001b[0m\u001b[37m\u001b[0m \u001b[1m51s\u001b[0m 411ms/step - accuracy: 0.8082 - loss: 0.5101 - val_accuracy: 0.8073 - val_loss: 0.4916\n",
            "Epoch 2/10\n",
            "\u001b[1m114/114\u001b[0m \u001b[32m━━━━━━━━━━━━━━━━━━━━\u001b[0m\u001b[37m\u001b[0m \u001b[1m82s\u001b[0m 408ms/step - accuracy: 0.8217 - loss: 0.4754 - val_accuracy: 0.8073 - val_loss: 0.4901\n",
            "Epoch 3/10\n",
            "\u001b[1m114/114\u001b[0m \u001b[32m━━━━━━━━━━━━━━━━━━━━\u001b[0m\u001b[37m\u001b[0m \u001b[1m47s\u001b[0m 416ms/step - accuracy: 0.8219 - loss: 0.4771 - val_accuracy: 0.8073 - val_loss: 0.4903\n",
            "Epoch 4/10\n",
            "\u001b[1m114/114\u001b[0m \u001b[32m━━━━━━━━━━━━━━━━━━━━\u001b[0m\u001b[37m\u001b[0m \u001b[1m48s\u001b[0m 422ms/step - accuracy: 0.8236 - loss: 0.4710 - val_accuracy: 0.8073 - val_loss: 0.4922\n",
            "Epoch 5/10\n",
            "\u001b[1m114/114\u001b[0m \u001b[32m━━━━━━━━━━━━━━━━━━━━\u001b[0m\u001b[37m\u001b[0m \u001b[1m48s\u001b[0m 425ms/step - accuracy: 0.8219 - loss: 0.4752 - val_accuracy: 0.8073 - val_loss: 0.4901\n"
          ]
        }
      ]
    },
    {
      "cell_type": "markdown",
      "source": [
        "##7. Evaluation\n"
      ],
      "metadata": {
        "id": "aidN90a2UsiL"
      }
    },
    {
      "cell_type": "code",
      "source": [
        "loss, accuracy = model_tf.evaluate(X_test, y_test)\n",
        "print(f\"\\nTest Accuracy: {accuracy:.4f}\")\n"
      ],
      "metadata": {
        "colab": {
          "base_uri": "https://localhost:8080/"
        },
        "id": "Y1Jm7X9XU5BP",
        "outputId": "164a2344-2b3f-45d3-d04e-7a8a5a442190"
      },
      "execution_count": 57,
      "outputs": [
        {
          "output_type": "stream",
          "name": "stdout",
          "text": [
            "\u001b[1m142/142\u001b[0m \u001b[32m━━━━━━━━━━━━━━━━━━━━\u001b[0m\u001b[37m\u001b[0m \u001b[1m5s\u001b[0m 33ms/step - accuracy: 0.8154 - loss: 0.4788\n",
            "\n",
            "Test Accuracy: 0.8207\n"
          ]
        }
      ]
    },
    {
      "cell_type": "markdown",
      "source": [
        "##8. Visualization"
      ],
      "metadata": {
        "id": "icbI4lzxU5uA"
      }
    },
    {
      "cell_type": "code",
      "source": [
        "plt.figure(figsize=(12, 5))\n",
        "plt.subplot(1, 2, 1)\n",
        "plt.plot(history.history['accuracy'], label='Train Acc')\n",
        "plt.plot(history.history['val_accuracy'], label='Val Acc')\n",
        "plt.title(\"Accuracy over Epochs\")\n",
        "plt.legend()\n",
        "\n",
        "plt.subplot(1, 2, 2)\n",
        "plt.plot(history.history['loss'], label='Train Loss')\n",
        "plt.plot(history.history['val_loss'], label='Val Loss')\n",
        "plt.title(\"Loss over Epochs\")\n",
        "plt.legend()\n",
        "plt.show()"
      ],
      "metadata": {
        "colab": {
          "base_uri": "https://localhost:8080/",
          "height": 439
        },
        "id": "nPwC7_ogU8-S",
        "outputId": "5f81b7af-124a-44f3-fa89-f5253a218ca1"
      },
      "execution_count": 58,
      "outputs": [
        {
          "output_type": "display_data",
          "data": {
            "text/plain": [
              "<Figure size 1200x500 with 2 Axes>"
            ],
            "image/png": "[encoded data removed]"
          },
          "metadata": {}
        }
      ]
    },
    {
      "cell_type": "markdown",
      "source": [
        "#2) Evaluasi Model Tensorflow"
      ],
      "metadata": {
        "id": "sS9on6WRdvy9"
      }
    },
    {
      "cell_type": "code",
      "source": [
        "from sklearn.metrics import accuracy_score, precision_score, recall_score, f1_score, roc_auc_score, roc_curve\n",
        "import matplotlib.pyplot as plt\n",
        "\n",
        "# 1. Prediksi probabilitas dari model TensorFlow\n",
        "y_pred_proba = model_tf.predict(X_test)\n",
        "\n",
        "# 2. Ubah probabilitas ke kelas 0 dan 1\n",
        "y_pred = (y_pred_proba > 0.5).astype(\"int32\")\n",
        "\n",
        "# 3. Evaluasi metrik\n",
        "print(\"=== Evaluation Metrics ===\")\n",
        "print(\"Akurasi  :\", accuracy_score(y_test, y_pred))\n",
        "print(\"Presisi  :\", precision_score(y_test, y_pred))\n",
        "print(\"Recall   :\", recall_score(y_test, y_pred))\n",
        "print(\"F1-Score :\", f1_score(y_test, y_pred))\n",
        "print(\"AUC      :\", roc_auc_score(y_test, y_pred_proba))\n",
        "\n",
        "# 4. Plot ROC Curve\n",
        "fpr, tpr, thresholds = roc_curve(y_test, y_pred_proba)\n",
        "\n",
        "plt.figure(figsize=(6, 6))\n",
        "plt.plot(fpr, tpr, label=f\"AUC = {roc_auc_score(y_test, y_pred_proba):.2f}\")\n",
        "plt.plot([0, 1], [0, 1], 'k--')\n",
        "plt.xlabel(\"False Positive Rate\")\n",
        "plt.ylabel(\"True Positive Rate\")\n",
        "plt.title(\"ROC Curve\")\n",
        "plt.legend(loc=\"lower right\")\n",
        "plt.grid(True)\n",
        "plt.show()"
      ],
      "metadata": {
        "colab": {
          "base_uri": "https://localhost:8080/",
          "height": 685
        },
        "id": "0ZeDMjJQd79a",
        "outputId": "6238cd50-da06-42a4-d849-eb9bb905886c"
      },
      "execution_count": 59,
      "outputs": [
        {
          "output_type": "stream",
          "name": "stdout",
          "text": [
            "\u001b[1m142/142\u001b[0m \u001b[32m━━━━━━━━━━━━━━━━━━━━\u001b[0m\u001b[37m\u001b[0m \u001b[1m8s\u001b[0m 53ms/step\n",
            "=== Evaluation Metrics ===\n",
            "Akurasi  : 0.8207109737248841\n",
            "Presisi  : 0.8207109737248841\n",
            "Recall   : 1.0\n",
            "F1-Score : 0.9015280135823429\n",
            "AUC      : 0.5050014843264405\n"
          ]
        },
        {
          "output_type": "display_data",
          "data": {
            "text/plain": [
              "<Figure size 600x600 with 1 Axes>"
            ],
            "image/png": "[encoded data removed]"
          },
          "metadata": {}
        }
      ]
    },
    {
      "cell_type": "markdown",
      "source": [
        "#3) LSTM Model PyTorch"
      ],
      "metadata": {
        "id": "8DIrN6mpYVaB"
      }
    },
    {
      "cell_type": "markdown",
      "source": [
        "##1. Import dan Load Data"
      ],
      "metadata": {
        "id": "9IkI2HPkYcOP"
      }
    },
    {
      "cell_type": "code",
      "source": [
        "import pandas as pd\n",
        "import numpy as np\n",
        "import torch\n",
        "import torch.nn as nn\n",
        "import torch.optim as optim\n",
        "from sklearn.model_selection import train_test_split\n",
        "from sklearn.metrics import accuracy_score, precision_score, recall_score, f1_score, roc_auc_score, roc_curve\n",
        "from torch.utils.data import Dataset, DataLoader\n",
        "from tensorflow.keras.preprocessing.text import Tokenizer\n",
        "from tensorflow.keras.preprocessing.sequence import pad_sequences\n",
        "import matplotlib.pyplot as plt\n",
        "\n",
        "df = pd.read_csv('/content/ReviewTokoBaju.csv')\n",
        "df = df[['Review Text', 'Recommended IND']].dropna()\n",
        "\n",
        "texts = df['Review Text'].values\n",
        "labels = df['Recommended IND'].values"
      ],
      "metadata": {
        "id": "sjvShnOeYbnE"
      },
      "execution_count": 10,
      "outputs": []
    },
    {
      "cell_type": "markdown",
      "source": [
        "##2. Tokenize dan Padding"
      ],
      "metadata": {
        "id": "WklPj_N7Y-7z"
      }
    },
    {
      "cell_type": "code",
      "source": [
        "vocab_size = 10000\n",
        "max_length = 200\n",
        "tokenizer = Tokenizer(num_words=vocab_size, oov_token='<OOV>')\n",
        "tokenizer.fit_on_texts(texts)\n",
        "sequences = tokenizer.texts_to_sequences(texts)\n",
        "padded = pad_sequences(sequences, maxlen=max_length, padding='post', truncating='post')\n",
        "\n",
        "X_train, X_test, y_train, y_test = train_test_split(padded, labels, test_size=0.2, random_state=42)"
      ],
      "metadata": {
        "id": "G0l5bYDTZClH"
      },
      "execution_count": 11,
      "outputs": []
    },
    {
      "cell_type": "markdown",
      "source": [
        "##3. Pytorch Dataset"
      ],
      "metadata": {
        "id": "VeqvIs52ZFbc"
      }
    },
    {
      "cell_type": "code",
      "source": [
        "class ReviewDataset(Dataset):\n",
        "    def __init__(self, X, y):\n",
        "        self.X = torch.tensor(X, dtype=torch.long)\n",
        "        self.y = torch.tensor(y, dtype=torch.float32)\n",
        "\n",
        "    def __len__(self):\n",
        "        return len(self.y)\n",
        "\n",
        "    def __getitem__(self, idx):\n",
        "        return self.X[idx], self.y[idx]\n",
        "\n",
        "train_dataset = ReviewDataset(X_train, y_train)\n",
        "test_dataset = ReviewDataset(X_test, y_test)\n",
        "\n",
        "train_loader = DataLoader(train_dataset, batch_size=64, shuffle=True)\n",
        "test_loader = DataLoader(test_dataset, batch_size=64)"
      ],
      "metadata": {
        "id": "Cr6vV2lCZNRI"
      },
      "execution_count": 12,
      "outputs": []
    },
    {
      "cell_type": "markdown",
      "source": [
        "##4. LSTM Model"
      ],
      "metadata": {
        "id": "oAczM91VZPqE"
      }
    },
    {
      "cell_type": "code",
      "source": [
        "class LSTMModel(nn.Module):\n",
        "    def __init__(self, vocab_size, embed_dim, hidden_dim):\n",
        "        super().__init__()\n",
        "        self.embedding = nn.Embedding(vocab_size, embed_dim)\n",
        "        self.lstm = nn.LSTM(embed_dim, hidden_dim, batch_first=True)\n",
        "        self.dropout = nn.Dropout(0.3)\n",
        "        self.fc = nn.Linear(hidden_dim, 1)\n",
        "        self.sigmoid = nn.Sigmoid()\n",
        "\n",
        "    def forward(self, x):\n",
        "        x = self.embedding(x)\n",
        "        _, (h_n, _) = self.lstm(x)\n",
        "        x = self.dropout(h_n[-1])\n",
        "        x = self.fc(x)\n",
        "        return self.sigmoid(x).squeeze()\n",
        "\n",
        "device = torch.device('cuda' if torch.cuda.is_available() else 'cpu')\n",
        "model = LSTMModel(vocab_size=vocab_size, embed_dim=64, hidden_dim=64).to(device)\n",
        "criterion = nn.BCELoss()\n",
        "optimizer = optim.Adam(model.parameters(), lr=0.001)"
      ],
      "metadata": {
        "id": "ByMYRJlZZSGY"
      },
      "execution_count": 13,
      "outputs": []
    },
    {
      "cell_type": "markdown",
      "source": [
        "##5. Training Loop\n"
      ],
      "metadata": {
        "id": "SCJDe58eZXh4"
      }
    },
    {
      "cell_type": "code",
      "source": [
        "train_losses = []\n",
        "for epoch in range(5):\n",
        "    model.train()\n",
        "    total_loss = 0\n",
        "    for X_batch, y_batch in train_loader:\n",
        "        X_batch, y_batch = X_batch.to(device), y_batch.to(device)\n",
        "\n",
        "        optimizer.zero_grad()\n",
        "        outputs = model(X_batch)\n",
        "        loss = criterion(outputs, y_batch)\n",
        "        loss.backward()\n",
        "        optimizer.step()\n",
        "        total_loss += loss.item()\n",
        "\n",
        "    avg_loss = total_loss / len(train_loader)\n",
        "    train_losses.append(avg_loss)\n",
        "    print(f\"Epoch {epoch+1}, Loss: {avg_loss:.4f}\")"
      ],
      "metadata": {
        "colab": {
          "base_uri": "https://localhost:8080/"
        },
        "id": "x5I7y9iMZa_W",
        "outputId": "ec66e201-ae83-4476-e2a2-ec56b64005ea"
      },
      "execution_count": 14,
      "outputs": [
        {
          "output_type": "stream",
          "name": "stdout",
          "text": [
            "Epoch 1, Loss: 0.4817\n",
            "Epoch 2, Loss: 0.4762\n",
            "Epoch 3, Loss: 0.4763\n",
            "Epoch 4, Loss: 0.4765\n",
            "Epoch 5, Loss: 0.4761\n"
          ]
        }
      ]
    },
    {
      "cell_type": "markdown",
      "source": [
        "#4) Evaluasi Model Pytorch"
      ],
      "metadata": {
        "id": "49ORcVGSa-Or"
      }
    },
    {
      "cell_type": "code",
      "source": [
        "model.eval()\n",
        "all_preds = []\n",
        "all_probs = []\n",
        "with torch.no_grad():\n",
        "    for X_batch, _ in test_loader:\n",
        "        X_batch = X_batch.to(device)\n",
        "        probs = model(X_batch).cpu().numpy()\n",
        "        all_probs.extend(probs)\n",
        "        all_preds.extend((probs > 0.5).astype(int))"
      ],
      "metadata": {
        "id": "AuEsh1TebFwB"
      },
      "execution_count": 15,
      "outputs": []
    },
    {
      "cell_type": "markdown",
      "source": [
        "##1. Metrics"
      ],
      "metadata": {
        "id": "nHem7IEObU8c"
      }
    },
    {
      "cell_type": "code",
      "source": [
        "acc = accuracy_score(y_test, all_preds)\n",
        "prec = precision_score(y_test, all_preds)\n",
        "rec = recall_score(y_test, all_preds)\n",
        "f1 = f1_score(y_test, all_preds)\n",
        "auc = roc_auc_score(y_test, all_probs)\n",
        "\n",
        "print(f\"Akurasi : {acc:.4f}\")\n",
        "print(f\"Presisi : {prec:.4f}\")\n",
        "print(f\"Recall  : {rec:.4f}\")\n",
        "print(f\"F1-Score: {f1:.4f}\")\n",
        "print(f\"AUC     : {auc:.4f}\")"
      ],
      "metadata": {
        "colab": {
          "base_uri": "https://localhost:8080/"
        },
        "id": "JziOS6JfbWpt",
        "outputId": "35898426-3097-40a8-e8b4-31619517835c"
      },
      "execution_count": 16,
      "outputs": [
        {
          "output_type": "stream",
          "name": "stdout",
          "text": [
            "Akurasi : 0.8207\n",
            "Presisi : 0.8207\n",
            "Recall  : 1.0000\n",
            "F1-Score: 0.9015\n",
            "AUC     : 0.5000\n"
          ]
        }
      ]
    },
    {
      "cell_type": "markdown",
      "source": [
        "##2. ROC Curve"
      ],
      "metadata": {
        "id": "c4SB6R1hbbUw"
      }
    },
    {
      "cell_type": "code",
      "source": [
        "fpr, tpr, _ = roc_curve(y_test, all_probs)\n",
        "plt.plot(fpr, tpr, label=f'AUC = {auc:.4f}')\n",
        "plt.plot([0, 1], [0, 1], 'k--')\n",
        "plt.xlabel(\"False Positive Rate\")\n",
        "plt.ylabel(\"True Positive Rate\")\n",
        "plt.title(\"ROC Curve (PyTorch)\")\n",
        "plt.legend()\n",
        "plt.grid(True)\n",
        "plt.show()"
      ],
      "metadata": {
        "colab": {
          "base_uri": "https://localhost:8080/",
          "height": 472
        },
        "id": "4S-8245Mbc2A",
        "outputId": "01f84519-cfa4-4880-fa91-0f878903f388"
      },
      "execution_count": 17,
      "outputs": [
        {
          "output_type": "display_data",
          "data": {
            "text/plain": [
              "<Figure size 640x480 with 1 Axes>"
            ],
            "image/png": "[encoded data removed]"
          },
          "metadata": {}
        }
      ]
    },
    {
      "cell_type": "markdown",
      "source": [
        "#5) Persamaan Matematika\n",
        "##1. Tokenisasi dan Padding\n",
        "Kode:\n",
        "\n",
        "tokenizer = Tokenizer(num_words=10000, oov_token=\"<OOV>\")\n",
        "\n",
        "sequences = tokenizer.texts_to_sequences(X)\n",
        "\n",
        "padded = pad_sequences(sequences, maxlen=200, padding='post', truncating='post')\n",
        "<br><br>\n",
        "Setiap kalimat X diubah menjadi urutan indeks token berdasarkan frekuensi. Misalnya:\n",
        "\"baju bagus dan nyaman\" → [23, 12, 45, 67].\n",
        "\n",
        "Padding dilakukan agar semua input punya panjang sama (maxlen = 200), misalnya:padded_sequence=[23,12,45,67,0,0,...,0]$∈R^{200}$<br><br>\n",
        "\n",
        "##2. Embedding Layer\n",
        "Kode:\n",
        "\n",
        "Embedding(vocab_size, 64, input_length=max_length)\n",
        "<br><br>\n",
        "Persamaan Matematika: Embedding layer memetakan setiap token x_i menjadi vektor berdimensi d=64:\n",
        "\n",
        "$$\n",
        "Embedding : x_i → e_i \\in R^{64}\n",
        "$$\n",
        "\n",
        "Jika Input berupa urutan X = [x_1, x_2, ..., x_{200}], maka outputnya:\n",
        "\n",
        "$$\n",
        "E = [e_1, e_2, ..., e_{200}] \\in R^{200x\\times64}\n",
        "$$\n",
        "<br><br>\n",
        "\n",
        "##3. LSTM Layer\n",
        "Kode:\n",
        "\n",
        "LSTM(64)\n",
        "\n",
        "Persamaan Matematika: LSTM (Long Short-Term Memory) mengolah input sekuensial dengan memori internal: Untuk setiap waktu t:\n",
        "\n",
        "$$\n",
        "f_t = \\sigma(W_f \\cdot [h_{t-1}, x_t] + b_f)\n",
        "$$\n",
        "$$\n",
        "i_t = \\sigma(W_i \\cdot [h_{t-1}, x_t] +b_i)\n",
        "$$\n",
        "$$\n",
        "\\overline{C}_t = tanh (W_C \\cdot [h_{t-1}, x_t] + b_c)\n",
        "$$\n",
        "$$\n",
        "C_t = f_t * C_{t-1}+i_t*\\overline{C}_t\n",
        "$$\n",
        "$$\n",
        "o_t = \\sigma (W_o ⋅ [h_{t-1}, x_t] +b_o)\n",
        "$$\n",
        "$$\n",
        "h_t = o_t * tanh(C_t)\n",
        "$$\n",
        "\n",
        "Keterangan:\n",
        "- $f_t$ = forget gate\n",
        "- $i_t$ = input gat\n",
        "- $c_t$ = cell gate\n",
        "- $h_t$ = hidden state\n",
        "- $\\sigma$ = sigmoid activation\n",
        "- $*$ =  elemen-wise multiplilcation\n",
        "\n",
        "##4. Dense Layer & Activation\n",
        "Kode:\n",
        "\n",
        "Dense(32, activation='relu')\n",
        "\n",
        "Dense(1, activation='sigmoid')\n",
        "<br><br>\n",
        "Hidden Layer (ReLU):\n",
        "\n",
        "$$\n",
        "h = ReLU(W_1x+b_1)=max(0,W_1x+b_1)\n",
        "$$\n",
        "\n",
        "Output Layer (Sigmoid):\n",
        "$$\n",
        "\\hat{y}=\\sigma(W_2h+b_2)=\\frac{1}{1+e^{-(W_2h+b_2)}}\n",
        "$$<br><br>\n",
        "\n",
        "##5. Loss Function: Binary Crossentropy\n",
        "Kode:\n",
        "\n",
        "loss='binary_crossentropy'\n",
        "Persamaan Matematika: Untuk label y ∈ {0,1} dan prediksi probabilitas $\\hat{y}$:\n",
        "$$\n",
        "𝓛_{BCE}(y,\\hat{y})=-[y \\cdot log(\\hat{y})+(1-y) \\cdot log(1-\\hat{y})]\n",
        "$$<br><br>\n",
        "\n",
        "##6. Optimizer: Adam\n",
        "Kode:\n",
        "\n",
        "optimizer='adam'\n",
        "\n",
        "Persamaan Matematika (Adam): Adam gabungan dari Momentum dan RMSProp:\n",
        "$$\n",
        "m_t = \\beta m_t + (1-\\beta_1) ∇L(\\theta)\n",
        "$$\n",
        "$$\n",
        "v_t = \\beta_2v_{t-1} +(1-\\beta_1) (∇L(\\theta))^2\n",
        "$$\n",
        "$$\n",
        "\\hat{m}_t = \\frac{m_t}{1-\\beta_{1}^{t}}, \\hat{v}_t = \\frac{v_t}{1-\\beta_{2}^{t}}\n",
        "$$<br><br>\n",
        "\n",
        "##7. Evaluasi\n",
        "Kode:\n",
        "\n",
        "model.evaluate(X_test, y_test)\n",
        "<br><br>\n",
        "Metode Evaluasi: Akurasi\n",
        "$$\n",
        "Accuracy = \\frac{\\text{Jumlah Prediksi Benar}}{\\text{Total Data}}\n",
        "$$\n",
        "\n",
        "Jika prediksi = [1, 0, 1, 1] dan label = [1, 0, 0, 1], maka:\n",
        "$$\n",
        "Accuracy = \\frac{3}{4} = 0.75\n",
        "$$\n",
        "\n",
        "##8. Akurasi\n",
        "Mengukur seberapa banyak prediksi yang benar dibandingkan total data:\n",
        "\n",
        "$$\n",
        "Accuracy = \\frac{TP + TN}{TP + TN + FP + FN}\n",
        "$$<br><br>\n",
        "\n",
        "Di mana:\n",
        "- $TP (True Positive)$ = Kasus positif yang diprediksi positif\n",
        "- $TF (True Negative)$ = Kasus negatif yang diprediksi negatif\n",
        "- $FP (False Positive)$ = Kasus negatif yang salah diprediksi sebagai positif\n",
        "- $FF (False Negative)$ = Kasus positif yang salah diprediksi sebagai negatif<br><br>\n",
        "\n",
        "##9. Presisi\n",
        "$$\n",
        "Presisi = \\frac{TP}{TP + FP}\n",
        "$$<br><br>\n",
        "\n",
        "Keterangan:\n",
        " - Mengukur seberapa banyak dari yang model prediksi positif, benar-benar positif.\n",
        " - Tinggi = sedikit yang salah prediksi sebagai positif.\n",
        "\n",
        "Cocok saat kamu ingin menghindari false positive, misalnya dalam deteksi spam.<br><br>\n",
        "\n",
        "##10. Recall (Sensitivity / TPR)\n",
        "$$\n",
        "Recall = \\frac{TP}{TP + FN}\n",
        "$$<br><br>\n",
        "\n",
        "Keterangan:\n",
        "- Mengukur seberapa banyak dari yang sebenarnya positif, berhasil dideteksi oleh model.\n",
        "- Tinggi = model jarang melewatkan yang seharusnya positif.\n",
        "\n",
        "Cocok saat kamu ingin menghindari false negative, misalnya pada deteksi penyakit.<br><br>\n",
        "\n",
        "##11. F1-Score\n",
        "$$\n",
        "F1-Score = 2 \\times \\frac{Precision×Recall}{Precision+Recall}\n",
        "$$<br><br>\n",
        "\n",
        "Keterangan:\n",
        "- F1 adalah rata-rata harmonis antara presisi dan recall.\n",
        "- Cocok jika kamu ingin seimbang antara menghindari FP dan FN.\n",
        "\n",
        "Digunakan saat kamu punya data imbalance dan ingin metrik yang fair.<br><br>\n",
        "\n",
        "##12. AUC - Area Under Curve (ROC)\n",
        "ROC Curve adalah grafik antara:\n",
        "- True Positive Rate (TPR) = Recall\n",
        "- False Positive Rate (FPR):\n",
        "<br><br>\n",
        "$$\n",
        "FPR = \\frac{FP}{FP + TN}\n",
        "$$\n",
        "<br><br>\n",
        "Semakin tinggi AUC, semakin baik model membedakan antara kelas 1 dan kelas 0.\n",
        "Nilai AUC:\n",
        "- 0.5 = tebak-tebakan\n",
        "- 0.7 - 0.8 = oke\n",
        "- 0.8 - 0.9 = bagus\n",
        "- 0.9 = sangat bagus"
      ],
      "metadata": {
        "id": "NVdoG8kspiXW"
      }
    }
  ]
}